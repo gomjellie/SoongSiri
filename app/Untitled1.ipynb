{
 "cells": [
  {
   "cell_type": "code",
   "execution_count": 1,
   "metadata": {},
   "outputs": [
    {
     "ename": "SyntaxError",
     "evalue": "invalid syntax (<ipython-input-1-aed228f990ee>, line 1)",
     "output_type": "error",
     "traceback": [
      "\u001b[0;36m  File \u001b[0;32m\"<ipython-input-1-aed228f990ee>\"\u001b[0;36m, line \u001b[0;32m1\u001b[0m\n\u001b[0;31m    from parser\u001b[0m\n\u001b[0m               ^\u001b[0m\n\u001b[0;31mSyntaxError\u001b[0m\u001b[0;31m:\u001b[0m invalid syntax\n"
     ]
    }
   ],
   "source": [
    "from parser"
   ]
  },
  {
   "cell_type": "code",
   "execution_count": 2,
   "metadata": {
    "collapsed": true
   },
   "outputs": [],
   "source": [
    "from parser import FoodParser"
   ]
  },
  {
   "cell_type": "code",
   "execution_count": 3,
   "metadata": {
    "collapsed": true
   },
   "outputs": [],
   "source": [
    "f = FoodParser()"
   ]
  },
  {
   "cell_type": "code",
   "execution_count": 4,
   "metadata": {
    "collapsed": true
   },
   "outputs": [],
   "source": [
    "f.refresh()"
   ]
  },
  {
   "cell_type": "code",
   "execution_count": 5,
   "metadata": {},
   "outputs": [
    {
     "data": {
      "text/plain": [
       "{'석식1': ['\\n오므라이스 & 포크소시지\\n\\n(992Kcal)\\nOmelet rice & Pork sausage양상추샐러드도라지무생채닭꼬치팽이버섯국포기김치\\n\\n'],\n",
       " '중식1': ['\\n두부&삼겹김치찜\\n\\n(822kcal)\\nstir-fried spicy \\nkorean-style bacon with kimchi and tofu골뱅이무침표고버섯볶음나박김치배추국계란찜잡곡밥\\n']}"
      ]
     },
     "execution_count": 5,
     "metadata": {},
     "output_type": "execute_result"
    }
   ],
   "source": [
    "f.get_faculty_food()"
   ]
  },
  {
   "cell_type": "code",
   "execution_count": 7,
   "metadata": {},
   "outputs": [
    {
     "name": "stdout",
     "output_type": "stream",
     "text": [
      "중식1\n",
      "석식1\n"
     ]
    }
   ],
   "source": [
    "for section in f.get_faculty_food():\n",
    "    print(section)"
   ]
  },
  {
   "cell_type": "code",
   "execution_count": 8,
   "metadata": {
    "collapsed": true
   },
   "outputs": [],
   "source": [
    "foods = f.get_faculty_food()"
   ]
  },
  {
   "cell_type": "code",
   "execution_count": 29,
   "metadata": {},
   "outputs": [
    {
     "name": "stdout",
     "output_type": "stream",
     "text": [
      "['두부삼겹김치찜', '골뱅이무침표고버섯볶음나박김치배추국계란찜잡곡밥']\n",
      "['오므라이스', '포크소시지', '양상추샐러드도라지무생채닭꼬치팽이버섯국포기김치']\n"
     ]
    }
   ],
   "source": [
    "for section in foods:\n",
    "    menu=foods[section][0]\n",
    "    english_removed = hangul.sub('', menu)\n",
    "    print(english_removed.split())\n",
    "    # print(' '.join(english_removed.split()))"
   ]
  },
  {
   "cell_type": "code",
   "execution_count": 14,
   "metadata": {
    "collapsed": true
   },
   "outputs": [],
   "source": [
    "import re"
   ]
  },
  {
   "cell_type": "code",
   "execution_count": 25,
   "metadata": {
    "collapsed": true
   },
   "outputs": [],
   "source": [
    "hangul = re.compile('[^가-힣 ]+')"
   ]
  },
  {
   "cell_type": "code",
   "execution_count": 30,
   "metadata": {
    "collapsed": true
   },
   "outputs": [],
   "source": [
    "dic = {}"
   ]
  },
  {
   "cell_type": "code",
   "execution_count": 31,
   "metadata": {
    "collapsed": true
   },
   "outputs": [],
   "source": [
    "dic.update({'a': 'b'})"
   ]
  },
  {
   "cell_type": "code",
   "execution_count": 32,
   "metadata": {},
   "outputs": [
    {
     "data": {
      "text/plain": [
       "{'a': 'b'}"
      ]
     },
     "execution_count": 32,
     "metadata": {},
     "output_type": "execute_result"
    }
   ],
   "source": [
    "dic"
   ]
  },
  {
   "cell_type": "code",
   "execution_count": 33,
   "metadata": {
    "collapsed": true
   },
   "outputs": [],
   "source": [
    "ret_dict = {}\n",
    "for section in foods:\n",
    "    menu = foods[section][0]\n",
    "    english_removed = hangul.sub('', menu)\n",
    "    ret_dict.update({section: english_removed.split()})"
   ]
  },
  {
   "cell_type": "code",
   "execution_count": 34,
   "metadata": {},
   "outputs": [
    {
     "data": {
      "text/plain": [
       "{'석식1': ['오므라이스', '포크소시지', '양상추샐러드도라지무생채닭꼬치팽이버섯국포기김치'],\n",
       " '중식1': ['두부삼겹김치찜', '골뱅이무침표고버섯볶음나박김치배추국계란찜잡곡밥']}"
      ]
     },
     "execution_count": 34,
     "metadata": {},
     "output_type": "execute_result"
    }
   ],
   "source": [
    "ret_dict"
   ]
  },
  {
   "cell_type": "code",
   "execution_count": 38,
   "metadata": {},
   "outputs": [
    {
     "name": "stdout",
     "output_type": "stream",
     "text": [
      "중식1 두부삼겹김치찜, 골뱅이무침표고버섯볶음나박김치배추국계란찜잡곡밥\n",
      "석식1 오므라이스, 포크소시지, 양상추샐러드도라지무생채닭꼬치팽이버섯국포기김치\n"
     ]
    }
   ],
   "source": [
    "for i in ret_dict:\n",
    "    print(i, ', '.join(ret_dict[i]))"
   ]
  },
  {
   "cell_type": "code",
   "execution_count": 39,
   "metadata": {},
   "outputs": [
    {
     "ename": "SyntaxError",
     "evalue": "invalid syntax (<ipython-input-39-8b426db9045b>, line 1)",
     "output_type": "error",
     "traceback": [
      "\u001b[0;36m  File \u001b[0;32m\"<ipython-input-39-8b426db9045b>\"\u001b[0;36m, line \u001b[0;32m1\u001b[0m\n\u001b[0;31m    fod i,j in ret_dict:\u001b[0m\n\u001b[0m        ^\u001b[0m\n\u001b[0;31mSyntaxError\u001b[0m\u001b[0;31m:\u001b[0m invalid syntax\n"
     ]
    }
   ],
   "source": [
    "fod i,j in ret_dict:\n",
    "    print(i, j)"
   ]
  },
  {
   "cell_type": "code",
   "execution_count": null,
   "metadata": {
    "collapsed": true
   },
   "outputs": [],
   "source": []
  }
 ],
 "metadata": {
  "kernelspec": {
   "display_name": "Python 3",
   "language": "python",
   "name": "python3"
  },
  "language_info": {
   "codemirror_mode": {
    "name": "ipython",
    "version": 3
   },
   "file_extension": ".py",
   "mimetype": "text/x-python",
   "name": "python",
   "nbconvert_exporter": "python",
   "pygments_lexer": "ipython3",
   "version": "3.5.2"
  }
 },
 "nbformat": 4,
 "nbformat_minor": 2
}
