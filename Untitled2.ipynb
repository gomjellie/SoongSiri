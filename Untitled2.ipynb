{
 "cells": [
  {
   "cell_type": "code",
   "execution_count": 1,
   "metadata": {
    "collapsed": true
   },
   "outputs": [],
   "source": [
    "from bs4 import BeautifulSoup\n",
    "import requests\n",
    "import urllib\n",
    "\n",
    "\n",
    "class Parser:\n",
    "    def __init__(self):\n",
    "        self.base_url = None\n",
    "\n",
    "    def refresh(self):\n",
    "        pass\n",
    "\n",
    "\n",
    "class Singleton(type):\n",
    "    instance = None\n",
    "\n",
    "    def __call__(cls, *args, **kwargs):\n",
    "        if not cls.instance:\n",
    "            cls.instance = super(Singleton, cls).__call__(*args, **kwargs)\n",
    "        return cls.instance\n",
    "\n",
    "\n",
    "class FoodParser(Parser):\n",
    "    def __init__(self):\n",
    "        self.base_url = 'http://soongguri.com/menu/m_menujson.php'\n",
    "        self.faculty_food = None\n",
    "        self.pupil_food = None\n",
    "        self.the_kitchen = None\n",
    "        self.snack_corner = None\n",
    "        self.food_court = None\n",
    "\n",
    "    def refresh(self):\n",
    "        \"\"\"\n",
    "        서버에 request를 보내서 식당 정보들을 갱신한다.\n",
    "        인자로 fkey를 받는데 1은 월요일, 5는 금요일 이런식이다.\n",
    "        fkey 인자를 생략하면 자동으로 오늘의 식단 가져옴\n",
    "        :return: None\n",
    "        \"\"\"\n",
    "        res = requests.get(self.base_url)\n",
    "        jsn = res.json()\n",
    "        self.pupil_food = jsn.get('학생식당')\n",
    "        self.the_kitchen = jsn.get('THE KITCHEN')\n",
    "        self.snack_corner = jsn.get('스넥코너')\n",
    "        self.food_court = jsn.get('푸드코트')\n",
    "        self.faculty_food = jsn.get('교직원식당')\n",
    "\n",
    "    def get_faculty_food(self):\n",
    "        ret_dict = {}\n",
    "        for section in self.faculty_food:\n",
    "            ret_dict.update({section: []})\n",
    "            soup = BeautifulSoup(self.faculty_food[section], 'html.parser')\n",
    "            ret_dict[section].append(soup.text)\n",
    "\n",
    "        # ret_dict.pop('조식') # 조식은 항상 조식 : 조식 이런 의미없는 데이터만 있음\n",
    "        #교식이 점심부터 시작하는것 같다.\n",
    "\n",
    "        return ret_dict\n",
    "\n",
    "    def get_pupil_food(self):\n",
    "        ret_dict = {}\n",
    "        for section in self.pupil_food:\n",
    "            ret_dict.update({section: []})\n",
    "            soup = BeautifulSoup(self.pupil_food[section], 'html.parser')\n",
    "            ret_dict[section].append(soup.text)\n",
    "        return ret_dict\n",
    "\n",
    "    def get_the_kitchen(self):\n",
    "        \"\"\"\n",
    "        TODO: 정규표현식 이용해서 메뉴 가격 깔끔하게 나누기\n",
    "        :return: dict\n",
    "        \"\"\"\n",
    "        ret_dict = {}\n",
    "        for section in self.the_kitchen:\n",
    "            ret_dict.update({section: []})\n",
    "            soup = BeautifulSoup(self.the_kitchen[section], 'html.parser')\n",
    "            ret_dict[section].append(soup.text)\n",
    "        return ret_dict\n",
    "\n",
    "    def get_snack_corner(self):\n",
    "        \"\"\"\n",
    "            TODO: 정규표현식 이용해서 메뉴 가격 깔끔하게 나누기\n",
    "            :return: dict\n",
    "        \"\"\"\n",
    "        ret_dict = {}\n",
    "        for section in self.snack_corner:\n",
    "            ret_dict.update({section: []})\n",
    "            soup = BeautifulSoup(self.snack_corner[section], 'html.parser')\n",
    "            ret_dict[section].append(soup.text)\n",
    "        return ret_dict\n",
    "\n",
    "    def get_food_court(self):\n",
    "        \"\"\"\n",
    "            TODO: 정규표현식 이용해서 메뉴 가격 깔끔하게 나누기\n",
    "            :return: dict\n",
    "        \"\"\"\n",
    "        ret_dict = {}\n",
    "        for section in self.food_court:\n",
    "            ret_dict.update({section: []})\n",
    "            soup = BeautifulSoup(self.food_court[section], 'html.parser')\n",
    "            ret_dict[section].append(soup.text)\n",
    "        return ret_dict\n",
    "\n",
    "\n",
    "class SubwayParser(metaclass=Singleton):\n",
    "    \"\"\"\n",
    "\n",
    "    \"\"\"\n",
    "    station_name_url = 'http://m.bus.go.kr/mBus/subway/getStatnByNm.bms'\n",
    "    arrival_info_url = 'http://m.bus.go.kr/mBus/subway/getArvlByInfo.bms'\n",
    "\n",
    "    def get_station_stat(self, station_name):\n",
    "        station_name = urllib.parse.quote(station_name.replace('역', ''))\n",
    "        # 숭실대입구역 -> 숭실대입구 로 변환해야 검색됨\n",
    "        # 문제점 역삼역 같은경우 역삼역 -> 삼 으로 변환됨...!\n",
    "        res = requests.get(subway_api.station_name_url + '?' + 'statnNm=' + station_name.replace('%', '%25'))\n",
    "        jsn = res.json()\n",
    "\n",
    "        if res.json().get('resultList') is None:\n",
    "            return '그런역 없습니다 다른이름으로 검색하세요'\n",
    "        subway_id = jsn.get('resultList')[0].get('subwayId')\n",
    "        statn_id = jsn.get('resultList')[0].get('statnId')\n",
    "\n",
    "        res = requests.get(subway_api.arrival_info_url + '?' +\n",
    "                           'subwayId=' + subway_id + '&statnId=' + statn_id)\n",
    "        jsn = res.json()\n",
    "        \"\"\"\n",
    "        result of print(jsn) is\n",
    "        {'resultList': [{'bTrainKind': '0', 'statnId': '1007000738', 'subwayList': '1007',\n",
    "        'statnSn': '30', 'curstatnsn': '0', 'cStatnNm': '남성방면', 'arvlMsg': ' ', 'statnList':\n",
    "        '1007000738', 'bStatnId': '30', 'bArvlTm': '60', 'updnLine': '상행', 'trnsitCo': '1',\n",
    "        'subwayHeading': '오른쪽', 'statnNm': '숭실대입구(살피재)', 'trainLineNm': '도봉산행 -\n",
    "        남성방면', 'gpsX': '126.95364613852064', 'arvlCd': '2', 'subwayId': '1007', 'trainLine':\n",
    "        '0', 'acdntCn': ' ', 'bStatnNm': '도봉산행', 'delayTime': '0', 'arvlMsg2':\n",
    "        '숭실대입구(살피재) 출발', 'bArvlDt': '60', 'bTrainNo': '7118', 'bStatnSn': '30', 'trainCd':\n",
    "        '2', 'gpsY': '37.49636243455655', 'arvlMsg3': '숭실대입구(살피재)'}, {'bTrainKind': '0',\n",
    "        'statnId': '1007000738', 'subwayList': '1007', 'statnSn': '30', 'curstatnsn': '2',\n",
    "        'cStatnNm': '남성방면', 'arvlMsg': ' ', 'statnList': '1007000738', 'bStatnId': '32',\n",
    "        'bArvlTm': '240', 'updnLine': '상행', 'trnsitCo': '1', 'subwayHeading': '오른쪽', 'statnNm':\n",
    "            '숭실대입구(살피재)', 'trainLineNm': '장암행 - 남성방면', 'gpsX': '126.95364613852064',\n",
    "            'arvlCd': '99', 'subwayId': '1007', 'trainLine': '0', 'acdntCn': ' ', 'bStatnNm':\n",
    "            '장암행', 'delayTime': '0', 'arvlMsg2': '4분 후 (장승배기)', 'bArvlDt': '240',\n",
    "            'bTrainNo': '7120', 'bStatnSn': '32', 'trainCd': '1', 'gpsY': '37.49636243455655',\n",
    "            'arvlMsg3': '장승배기'}, {'bTrainKind': '0', 'statnId': '1007000738', 'subwayList':\n",
    "            '1007', 'statnSn': '30', 'curstatnsn': '1', 'cStatnNm': '상도방면', 'arvlMsg': ' ',\n",
    "            'statnList': '1007000738', 'bStatnId': '29', 'bArvlTm': '120', 'updnLine': '하행',\n",
    "            'trnsitCo': '1', 'subwayHeading': '왼쪽', 'statnNm': '숭실대입구(살피재)',\n",
    "            'trainLineNm': '온수행 - 상도방면', 'gpsX': '126.95364613852064', 'arvlCd': '3',\n",
    "            'subwayId': '1007', 'trainLine': '1', 'acdntCn': ' ', 'bStatnNm': '온수행', 'delayTime':\n",
    "            '0', 'arvlMsg2': '전역 출발', 'bArvlDt': '120', 'bTrainNo': '7123', 'bStatnSn': '29',\n",
    "            'trainCd': '2', 'gpsY': '37.49636243455655', 'arvlMsg3': '남성'}, {'bTrainKind': '0',\n",
    "            'statnId': '1007000738', 'subwayList': '1007', 'statnSn': '30', 'curstatnsn': '2',\n",
    "            'cStatnNm': '상도방면', 'arvlMsg': ' ', 'statnList': '1007000738', 'bStatnId': '28',\n",
    "            'bArvlTm': '300', 'updnLine': '하행', 'trnsitCo': '1', 'subwayHeading': '왼쪽',\n",
    "            'statnNm': '숭실대입구(살피재)', 'trainLineNm': '부평구청행 - 상도방면', 'gpsX':\n",
    "            '126.95364613852064', 'arvlCd': '99', 'subwayId': '1007', 'trainLine': '1', 'acdntCn': '\n",
    "            ', 'bStatnNm': '부평구청행', 'delayTime': '0', 'arvlMsg2': '5분 후 (총신대입구(이수))',\n",
    "            'bArvlDt': '300', 'bTrainNo': '7125', 'bStatnSn': '28', 'trainCd': '1', 'gpsY':\n",
    "            '37.49636243455655', 'arvlMsg3': '총신대입구(이수)'}], 'error': {'errorCode': '0000',\n",
    "            'errorMessage': '성공'}, 'resultList2': [{'x': '195901.37022', 'statnId': '1007000738',\n",
    "            'zipNo': '156035', 'subwayId': '1007', 'subwayList': '1007:1007000738,', 'telNo':\n",
    "            '02-6311-7381', 'statnTid': '1007000737', 'adres': '서울특별시 동작구 상도5동178-1',\n",
    "            'fxNum': ' ', 'statnFnm': '상도', 'statnTnm': '남성', 'statnFid': '1007000739',\n",
    "            'statnNmEng': 'Soongsil Univ.', 'operPblinstt': '도시철도', 'y': '444107.01879',\n",
    "            'subwayNm': '7호선', 'trnsitCo': '1', 'statnNm': '숭실대입구'}]}\n",
    "        \"\"\"\n",
    "\n",
    "        ret = jsn.get('resultList2')[0].get('statnNm') + '\\n'\n",
    "\n",
    "        if jsn.get('resultList') is None:\n",
    "            return '곧 수정하겠습니다 아직 이부분은 왜안되는지 이유를 모르겠네요'\n",
    "        for j in range(len(jsn.get('resultList'))):\n",
    "            ret += '-----------------------\\n|'\n",
    "            ret += jsn.get('resultList')[j].get('trainLineNm') + '\\n| '\n",
    "            ret += jsn.get('resultList')[j].get('arvlMsg2') + '\\n|'\n",
    "            # for k in jsn.get('resultList')[j].keys():\n",
    "            #\tprint(k, jsn.get('resultList')[j].get(k))\n",
    "            # print('-------------------')\n",
    "\n",
    "        return ret + '-----------------------'\n",
    "\n",
    "\n",
    "class BusParser(metaclass=Singleton):\n",
    "    \"\"\"\n",
    "    ex: http://bus.go.kr/xmlRequest/getStationByUid.jsp?strBusNumber=13157'\n",
    "    \"\"\"\n",
    "\n",
    "    url = 'http://bus.go.kr/xmlRequest/getStationByUid.jsp'\n",
    "\n",
    "    def get_station_stat(self, station_number):\n",
    "        res = requests.get(bus_api.url, dict(strBusNumber=station_number))\n",
    "        soup = BeautifulSoup(res.text, 'html.parser')\n",
    "        ret = ''\n",
    "\n",
    "        for bus_name, left_time_1, left_time_2 in zip(soup.select('rtnm'),\\\n",
    "                soup.select('arrmsg1'), soup.select('arrmsg2')):\n",
    "            ret += \"-------------------\\n| Bus:{0:<8}\\n|{1:<10}\\n|{2:<13}\\n\".format(\\\n",
    "                    bus_name.string, left_time_1.string, left_time_2.string)\n",
    "        return ret + '-------------------'\n",
    "\n",
    "\n",
    "class LibParser(metaclass=Singleton):\n",
    "    url = 'http://203.253.28.47/seat/domian5.asp'\n",
    "    seat = {\n",
    "        '1 열람실': {\n",
    "            '전체 좌석': 428,\n",
    "            '잔여 좌석': None,\n",
    "            '사용중인 좌석': None,\n",
    "            '이용률': None\n",
    "        },\n",
    "        '2 열람실': {\n",
    "            '전체 좌석': 100,\n",
    "            '잔여 좌석': None,\n",
    "            '사용중인 좌석': None,\n",
    "            '이용률': None\n",
    "        },\n",
    "        '3 열람실': {\n",
    "            '전체 좌석': 117,\n",
    "            '잔여 좌석': None,\n",
    "            '사용중인 좌석': None,\n",
    "            '이용률': None\n",
    "        },\n",
    "        '4 열람실': {\n",
    "            '전체 좌석': 172,\n",
    "            '잔여 좌석': None,\n",
    "            '사용중인 좌석': None,\n",
    "            '이용률': None\n",
    "        }\n",
    "    }\n",
    "\n",
    "    def get_lib_stat(self):\n",
    "        r = requests.get(lib_api.url)\n",
    "        soup = BeautifulSoup(r.text, 'html.parser')\n",
    "        cnt = 1\n",
    "        for i in soup.find_all('tr')[3:]:\n",
    "            rest = i.find_all(attrs={'color': 'blue'})[1].getText()\n",
    "            usage_percent = i.find_all(attrs={'color': 'blue'})[2].getText()\n",
    "            room = lib_api.seat ['{} 열람실'.format(cnt)]\n",
    "            room['잔여 좌석'] = int(rest)\n",
    "            room['사용중인 좌석'] = int(room['전체 좌석'])-room['잔여 좌석']\n",
    "            room['이용률'] = usage_percent\n",
    "            cnt += 1\n",
    "\n",
    "        return lib_api.seat\n",
    "\n",
    "subway_api = SubwayParser()\n",
    "bus_api = BusParser()\n",
    "lib_api = LibParser()\n"
   ]
  },
  {
   "cell_type": "code",
   "execution_count": 2,
   "metadata": {
    "collapsed": true
   },
   "outputs": [],
   "source": [
    "f = FoodParser()"
   ]
  },
  {
   "cell_type": "code",
   "execution_count": 3,
   "metadata": {},
   "outputs": [
    {
     "ename": "TypeError",
     "evalue": "'NoneType' object is not iterable",
     "output_type": "error",
     "traceback": [
      "\u001b[0;31m---------------------------------------------------------------------------\u001b[0m",
      "\u001b[0;31mTypeError\u001b[0m                                 Traceback (most recent call last)",
      "\u001b[0;32m<ipython-input-3-7ce998ffda8e>\u001b[0m in \u001b[0;36m<module>\u001b[0;34m()\u001b[0m\n\u001b[0;32m----> 1\u001b[0;31m \u001b[0mf\u001b[0m\u001b[0;34m.\u001b[0m\u001b[0mget_faculty_food\u001b[0m\u001b[0;34m(\u001b[0m\u001b[0;34m)\u001b[0m\u001b[0;34m\u001b[0m\u001b[0m\n\u001b[0m",
      "\u001b[0;32m<ipython-input-1-8be9ec16501a>\u001b[0m in \u001b[0;36mget_faculty_food\u001b[0;34m(self)\u001b[0m\n\u001b[1;32m     47\u001b[0m     \u001b[0;32mdef\u001b[0m \u001b[0mget_faculty_food\u001b[0m\u001b[0;34m(\u001b[0m\u001b[0mself\u001b[0m\u001b[0;34m)\u001b[0m\u001b[0;34m:\u001b[0m\u001b[0;34m\u001b[0m\u001b[0m\n\u001b[1;32m     48\u001b[0m         \u001b[0mret_dict\u001b[0m \u001b[0;34m=\u001b[0m \u001b[0;34m{\u001b[0m\u001b[0;34m}\u001b[0m\u001b[0;34m\u001b[0m\u001b[0m\n\u001b[0;32m---> 49\u001b[0;31m         \u001b[0;32mfor\u001b[0m \u001b[0msection\u001b[0m \u001b[0;32min\u001b[0m \u001b[0mself\u001b[0m\u001b[0;34m.\u001b[0m\u001b[0mfaculty_food\u001b[0m\u001b[0;34m:\u001b[0m\u001b[0;34m\u001b[0m\u001b[0m\n\u001b[0m\u001b[1;32m     50\u001b[0m             \u001b[0mret_dict\u001b[0m\u001b[0;34m.\u001b[0m\u001b[0mupdate\u001b[0m\u001b[0;34m(\u001b[0m\u001b[0;34m{\u001b[0m\u001b[0msection\u001b[0m\u001b[0;34m:\u001b[0m \u001b[0;34m[\u001b[0m\u001b[0;34m]\u001b[0m\u001b[0;34m}\u001b[0m\u001b[0;34m)\u001b[0m\u001b[0;34m\u001b[0m\u001b[0m\n\u001b[1;32m     51\u001b[0m             \u001b[0msoup\u001b[0m \u001b[0;34m=\u001b[0m \u001b[0mBeautifulSoup\u001b[0m\u001b[0;34m(\u001b[0m\u001b[0mself\u001b[0m\u001b[0;34m.\u001b[0m\u001b[0mfaculty_food\u001b[0m\u001b[0;34m[\u001b[0m\u001b[0msection\u001b[0m\u001b[0;34m]\u001b[0m\u001b[0;34m,\u001b[0m \u001b[0;34m'html.parser'\u001b[0m\u001b[0;34m)\u001b[0m\u001b[0;34m\u001b[0m\u001b[0m\n",
      "\u001b[0;31mTypeError\u001b[0m: 'NoneType' object is not iterable"
     ]
    }
   ],
   "source": [
    "f.get_faculty_food()"
   ]
  },
  {
   "cell_type": "code",
   "execution_count": 4,
   "metadata": {
    "collapsed": true
   },
   "outputs": [],
   "source": [
    "f.refresh()"
   ]
  },
  {
   "cell_type": "code",
   "execution_count": 5,
   "metadata": {},
   "outputs": [
    {
     "data": {
      "text/plain": [
       "{'석식1': ['\\n오므라이스 & 포크소시지\\n\\n(992Kcal)\\nOmelet rice & Pork sausage양상추샐러드도라지무생채닭꼬치팽이버섯국포기김치\\n\\n'],\n",
       " '중식1': ['\\n두부&삼겹김치찜\\n\\n(822kcal)\\nstir-fried spicy \\nkorean-style bacon with kimchi and tofu골뱅이무침표고버섯볶음나박김치배추국계란찜잡곡밥\\n']}"
      ]
     },
     "execution_count": 5,
     "metadata": {},
     "output_type": "execute_result"
    }
   ],
   "source": [
    "f.get_faculty_food()"
   ]
  },
  {
   "cell_type": "code",
   "execution_count": 6,
   "metadata": {
    "collapsed": true
   },
   "outputs": [],
   "source": [
    "faculty = f.get_faculty_food()"
   ]
  },
  {
   "cell_type": "code",
   "execution_count": 8,
   "metadata": {},
   "outputs": [
    {
     "name": "stdout",
     "output_type": "stream",
     "text": [
      "석식1 \n",
      "오므라이스 & 포크소시지\n",
      "\n",
      "(992Kcal)\n",
      "Omelet rice & Pork sausage양상추샐러드도라지무생채닭꼬치팽이버섯국포기김치\n",
      "\n",
      "\n",
      "중식1 \n",
      "두부&삼겹김치찜\n",
      "\n",
      "(822kcal)\n",
      "stir-fried spicy \n",
      "korean-style bacon with kimchi and tofu골뱅이무침표고버섯볶음나박김치배추국계란찜잡곡밥\n",
      "\n"
     ]
    }
   ],
   "source": [
    "for section in faculty:\n",
    "    print(section, faculty[section][0])"
   ]
  },
  {
   "cell_type": "code",
   "execution_count": 10,
   "metadata": {
    "collapsed": true
   },
   "outputs": [],
   "source": [
    "base_url = 'http://soongguri.com/menu/m_menujson.php'\n",
    "res = requests.get(base_url)"
   ]
  },
  {
   "cell_type": "code",
   "execution_count": 17,
   "metadata": {
    "collapsed": true
   },
   "outputs": [],
   "source": [
    "faculty_food = res.json()"
   ]
  },
  {
   "cell_type": "code",
   "execution_count": 124,
   "metadata": {
    "collapsed": true
   },
   "outputs": [],
   "source": [
    "faculty_food = jsn.get('학생식당')"
   ]
  },
  {
   "cell_type": "code",
   "execution_count": 125,
   "metadata": {
    "collapsed": true
   },
   "outputs": [],
   "source": [
    "석식1 = faculty_food['중식1']"
   ]
  },
  {
   "cell_type": "code",
   "execution_count": null,
   "metadata": {
    "collapsed": true
   },
   "outputs": [],
   "source": []
  },
  {
   "cell_type": "code",
   "execution_count": 126,
   "metadata": {
    "collapsed": true
   },
   "outputs": [],
   "source": [
    "soup = BeautifulSoup(석식1, 'html.parser')"
   ]
  },
  {
   "cell_type": "code",
   "execution_count": 130,
   "metadata": {
    "collapsed": true
   },
   "outputs": [],
   "source": [
    "t = ''\n",
    "for i in soup.find_all({'div'}):\n",
    "    t += '\\n' + i.text"
   ]
  },
  {
   "cell_type": "code",
   "execution_count": 131,
   "metadata": {},
   "outputs": [
    {
     "data": {
      "text/plain": [
       "'\\n짜장밥*탕수육\\nstir-fried black bean sauce rice'"
      ]
     },
     "execution_count": 131,
     "metadata": {},
     "output_type": "execute_result"
    }
   ],
   "source": [
    "t"
   ]
  },
  {
   "cell_type": "code",
   "execution_count": 78,
   "metadata": {},
   "outputs": [
    {
     "data": {
      "text/plain": [
       "['오므라이스',\n",
       " '&',\n",
       " '포크소시지',\n",
       " '(992',\n",
       " 'Kcal)',\n",
       " 'Omelet',\n",
       " 'rice',\n",
       " '&',\n",
       " 'Pork',\n",
       " 'sausage',\n",
       " '양상추샐러드',\n",
       " '도라지무생채',\n",
       " '닭꼬치',\n",
       " '팽이버섯국',\n",
       " '포기김치']"
      ]
     },
     "execution_count": 78,
     "metadata": {},
     "output_type": "execute_result"
    }
   ],
   "source": []
  },
  {
   "cell_type": "code",
   "execution_count": 76,
   "metadata": {},
   "outputs": [
    {
     "data": {
      "text/plain": [
       "'오므라이스 & 포크소시지 (992 Kcal) Omelet rice & Pork sausage 양상추샐러드 도라지무생채 닭꼬치 팽이버섯국 포기김치'"
      ]
     },
     "execution_count": 76,
     "metadata": {},
     "output_type": "execute_result"
    }
   ],
   "source": [
    "' '.join(t.split())"
   ]
  },
  {
   "cell_type": "code",
   "execution_count": 79,
   "metadata": {
    "collapsed": true
   },
   "outputs": [],
   "source": [
    "import re"
   ]
  },
  {
   "cell_type": "code",
   "execution_count": 80,
   "metadata": {
    "collapsed": true
   },
   "outputs": [],
   "source": [
    "hangul = re.compile('[^가-힣 ]+')"
   ]
  },
  {
   "cell_type": "code",
   "execution_count": 83,
   "metadata": {
    "collapsed": true
   },
   "outputs": [],
   "source": [
    "res = hangul.sub('', ' '.join(t.split()))"
   ]
  },
  {
   "cell_type": "code",
   "execution_count": 85,
   "metadata": {
    "collapsed": true
   },
   "outputs": [],
   "source": [
    "res = ' '.join(res.split())"
   ]
  },
  {
   "cell_type": "code",
   "execution_count": 107,
   "metadata": {
    "collapsed": true
   },
   "outputs": [],
   "source": [
    "res = res.split(' ')"
   ]
  },
  {
   "cell_type": "code",
   "execution_count": 105,
   "metadata": {
    "collapsed": true
   },
   "outputs": [],
   "source": [
    "ret_dict = {}"
   ]
  },
  {
   "cell_type": "code",
   "execution_count": 106,
   "metadata": {
    "collapsed": true
   },
   "outputs": [],
   "source": [
    "ret_dict.update({'점심1': []})"
   ]
  },
  {
   "cell_type": "code",
   "execution_count": 110,
   "metadata": {
    "collapsed": true
   },
   "outputs": [],
   "source": [
    "ret_dict.update({'점심1':res})"
   ]
  },
  {
   "cell_type": "code",
   "execution_count": 111,
   "metadata": {},
   "outputs": [
    {
     "data": {
      "text/plain": [
       "{'점심1': ['오므라이스', '포크소시지', '양상추샐러드', '도라지무생채', '닭꼬치', '팽이버섯국', '포기김치']}"
      ]
     },
     "execution_count": 111,
     "metadata": {},
     "output_type": "execute_result"
    }
   ],
   "source": [
    "ret_dict"
   ]
  },
  {
   "cell_type": "code",
   "execution_count": 54,
   "metadata": {
    "collapsed": true
   },
   "outputs": [],
   "source": [
    "from bs4 import BeautifulSoup\n",
    "import requests\n",
    "import urllib\n",
    "import re\n",
    "\n",
    "\n",
    "class Parser:\n",
    "    def __init__(self):\n",
    "        self.base_url = None\n",
    "\n",
    "    def refresh(self):\n",
    "        pass\n",
    "\n",
    "\n",
    "class Singleton(type):\n",
    "    instance = None\n",
    "\n",
    "    def __call__(cls, *args, **kwargs):\n",
    "        if not cls.instance:\n",
    "            cls.instance = super(Singleton, cls).__call__(*args, **kwargs)\n",
    "        return cls.instance\n",
    "\n",
    "\n",
    "class FoodParser(Parser):\n",
    "    def __init__(self):\n",
    "        self.base_url = 'http://soongguri.com/menu/m_menujson.php'\n",
    "        self.faculty_food = None\n",
    "        self.pupil_food = None\n",
    "        self.the_kitchen = None\n",
    "        self.snack_corner = None\n",
    "        self.food_court = None\n",
    "\n",
    "    def refresh(self):\n",
    "        \"\"\"\n",
    "        서버에 request를 보내서 식당 정보들을 갱신한다.\n",
    "        인자로 fkey를 받는데 1은 월요일, 5는 금요일 이런식이다.\n",
    "        fkey 인자를 생략하면 자동으로 오늘의 식단 가져옴\n",
    "        :return: None\n",
    "        \"\"\"\n",
    "        res = requests.get(self.base_url)\n",
    "        jsn = res.json()\n",
    "        self.pupil_food = jsn.get('학생식당')\n",
    "        self.the_kitchen = jsn.get('THE KITCHEN')\n",
    "        self.snack_corner = jsn.get('스넥코너')\n",
    "        self.food_court = jsn.get('푸드코트')\n",
    "        self.faculty_food = jsn.get('교직원식당')\n",
    "\n",
    "    def get_faculty_food(self):\n",
    "        ret_dict = {}\n",
    "        for section in self.faculty_food:\n",
    "            ret_dict.update({section: []})\n",
    "            soup = BeautifulSoup(self.faculty_food[section], 'html.parser')\n",
    "            t = ''\n",
    "            for i in soup.find_all({'span'}):\n",
    "                t += '\\n' + i.text\n",
    "\n",
    "            hangul = re.compile('[^가-힣 ]+')\n",
    "\n",
    "            res = hangul.sub('', ' '.join(t.split()))\n",
    "            res = ' '.join(res.split())\n",
    "            res = res.split(' ')\n",
    "\n",
    "            ret_dict.update({section: res})\n",
    "        return ret_dict\n",
    "\n",
    "    def get_pupil_food(self):\n",
    "        ret_dict = {}\n",
    "        for section in self.pupil_food:\n",
    "            ret_dict.update({section: []})\n",
    "            soup = BeautifulSoup(self.pupil_food[section], 'html.parser')\n",
    "            t = ''\n",
    "            for i in soup.find_all({'div'}):\n",
    "                t += '\\n' + i.text\n",
    "\n",
    "            hangul = re.compile('[^가-힣 ]+')\n",
    "\n",
    "            res = hangul.sub('', ' '.join(t.split()))\n",
    "            res = ' '.join(res.split())\n",
    "            res = res.split(' ')\n",
    "\n",
    "            ret_dict.update({section: res})\n",
    "        return ret_dict\n",
    "\n",
    "    def get_the_kitchen(self):\n",
    "        \"\"\"\n",
    "        TODO: 정규표현식 이용해서 메뉴 가격 깔끔하게 나누기\n",
    "        :return: dict\n",
    "        \"\"\"\n",
    "        ret_dict = {}\n",
    "        for section in self.the_kitchen:\n",
    "            ret_dict.update({section: []})\n",
    "            soup = BeautifulSoup(self.the_kitchen[section], 'html.parser')\n",
    "            ret_dict[section].append(soup.text)\n",
    "        return ret_dict\n",
    "\n",
    "    def get_snack_corner(self):\n",
    "        \"\"\"\n",
    "            TODO: 정규표현식 이용해서 메뉴 가격 깔끔하게 나누기\n",
    "            :return: dict\n",
    "        \"\"\"\n",
    "        ret_dict = {}\n",
    "        for section in self.snack_corner:\n",
    "            ret_dict.update({section: []})\n",
    "            soup = BeautifulSoup(self.snack_corner[section], 'html.parser')\n",
    "            ret_dict[section].append(soup.text)\n",
    "        return ret_dict\n",
    "\n",
    "    def get_food_court(self):\n",
    "        \"\"\"\n",
    "            TODO: 정규표현식 이용해서 메뉴 가격 깔끔하게 나누기\n",
    "            :return: dict\n",
    "        \"\"\"\n",
    "        ret_dict = {}\n",
    "        for section in self.food_court:\n",
    "            ret_dict.update({section: []})\n",
    "            soup = BeautifulSoup(self.food_court[section], 'html.parser')\n",
    "            ret_dict[section].append(soup.text)\n",
    "        return ret_dict\n",
    "\n"
   ]
  },
  {
   "cell_type": "code",
   "execution_count": 55,
   "metadata": {},
   "outputs": [],
   "source": [
    "f = FoodParser()"
   ]
  },
  {
   "cell_type": "code",
   "execution_count": 58,
   "metadata": {},
   "outputs": [
    {
     "name": "stdout",
     "output_type": "stream",
     "text": [
      "'list' object has no attribute 'get'\n"
     ]
    }
   ],
   "source": [
    "try:\n",
    "    f.refresh()\n",
    "except Exception as inst:\n",
    "    print(inst)"
   ]
  },
  {
   "cell_type": "code",
   "execution_count": 5,
   "metadata": {},
   "outputs": [
    {
     "ename": "TypeError",
     "evalue": "'NoneType' object is not iterable",
     "output_type": "error",
     "traceback": [
      "\u001b[0;31m---------------------------------------------------------------------------\u001b[0m",
      "\u001b[0;31mTypeError\u001b[0m                                 Traceback (most recent call last)",
      "\u001b[0;32m<ipython-input-5-726aa3e202a1>\u001b[0m in \u001b[0;36m<module>\u001b[0;34m()\u001b[0m\n\u001b[0;32m----> 1\u001b[0;31m \u001b[0mf\u001b[0m\u001b[0;34m.\u001b[0m\u001b[0mget_pupil_food\u001b[0m\u001b[0;34m(\u001b[0m\u001b[0;34m)\u001b[0m\u001b[0;34m\u001b[0m\u001b[0m\n\u001b[0m",
      "\u001b[0;32m<ipython-input-2-272bc481690e>\u001b[0m in \u001b[0;36mget_pupil_food\u001b[0;34m(self)\u001b[0m\n\u001b[1;32m     66\u001b[0m     \u001b[0;32mdef\u001b[0m \u001b[0mget_pupil_food\u001b[0m\u001b[0;34m(\u001b[0m\u001b[0mself\u001b[0m\u001b[0;34m)\u001b[0m\u001b[0;34m:\u001b[0m\u001b[0;34m\u001b[0m\u001b[0m\n\u001b[1;32m     67\u001b[0m         \u001b[0mret_dict\u001b[0m \u001b[0;34m=\u001b[0m \u001b[0;34m{\u001b[0m\u001b[0;34m}\u001b[0m\u001b[0;34m\u001b[0m\u001b[0m\n\u001b[0;32m---> 68\u001b[0;31m         \u001b[0;32mfor\u001b[0m \u001b[0msection\u001b[0m \u001b[0;32min\u001b[0m \u001b[0mself\u001b[0m\u001b[0;34m.\u001b[0m\u001b[0mpupil_food\u001b[0m\u001b[0;34m:\u001b[0m\u001b[0;34m\u001b[0m\u001b[0m\n\u001b[0m\u001b[1;32m     69\u001b[0m             \u001b[0mret_dict\u001b[0m\u001b[0;34m.\u001b[0m\u001b[0mupdate\u001b[0m\u001b[0;34m(\u001b[0m\u001b[0;34m{\u001b[0m\u001b[0msection\u001b[0m\u001b[0;34m:\u001b[0m \u001b[0;34m[\u001b[0m\u001b[0;34m]\u001b[0m\u001b[0;34m}\u001b[0m\u001b[0;34m)\u001b[0m\u001b[0;34m\u001b[0m\u001b[0m\n\u001b[1;32m     70\u001b[0m             \u001b[0msoup\u001b[0m \u001b[0;34m=\u001b[0m \u001b[0mBeautifulSoup\u001b[0m\u001b[0;34m(\u001b[0m\u001b[0mself\u001b[0m\u001b[0;34m.\u001b[0m\u001b[0mpupil_food\u001b[0m\u001b[0;34m[\u001b[0m\u001b[0msection\u001b[0m\u001b[0;34m]\u001b[0m\u001b[0;34m,\u001b[0m \u001b[0;34m'html.parser'\u001b[0m\u001b[0;34m)\u001b[0m\u001b[0;34m\u001b[0m\u001b[0m\n",
      "\u001b[0;31mTypeError\u001b[0m: 'NoneType' object is not iterable"
     ]
    }
   ],
   "source": [
    "f.get_pupil_food()"
   ]
  },
  {
   "cell_type": "code",
   "execution_count": 12,
   "metadata": {},
   "outputs": [
    {
     "data": {
      "text/plain": [
       "{'중식1': '<div>후리가케주먹밥(825kcal)</div><div>미니물냉면</div><div>자반고등어구이</div><div>roasted mackerel </div><div>골뱅이소면무침</div><div>콩나물무침</div><div>단호박튀김</div><div>연시</div><div>포기김치</div>\\r\\n\\r\\n\\r\\n\\r\\n'}"
      ]
     },
     "execution_count": 12,
     "metadata": {},
     "output_type": "execute_result"
    }
   ],
   "source": [
    "f.faculty_food"
   ]
  },
  {
   "cell_type": "code",
   "execution_count": 33,
   "metadata": {
    "collapsed": true
   },
   "outputs": [],
   "source": [
    "from bs4 import BeautifulSoup\n",
    "import requests\n",
    "import urllib\n",
    "import re\n",
    "\n",
    "\n",
    "class Parser:\n",
    "    def __init__(self):\n",
    "        self.base_url = None\n",
    "\n",
    "    def refresh(self):\n",
    "        pass\n",
    "\n",
    "\n",
    "class Singleton(type):\n",
    "    instance = None\n",
    "\n",
    "    def __call__(cls, *args, **kwargs):\n",
    "        if not cls.instance:\n",
    "            cls.instance = super(Singleton, cls).__call__(*args, **kwargs)\n",
    "        return cls.instance\n",
    "\n",
    "\n",
    "class FoodParser(Parser):\n",
    "    def __init__(self):\n",
    "        self.base_url = 'http://soongguri.com/menu/m_menujson.php'\n",
    "        self.faculty_food = None\n",
    "        self.pupil_food = None\n",
    "        self.the_kitchen = None\n",
    "        self.snack_corner = None\n",
    "        self.food_court = None\n",
    "\n",
    "    def refresh(self):\n",
    "        \"\"\"\n",
    "        서버에 request를 보내서 식당 정보들을 갱신한다.\n",
    "        인자로 fkey를 받는데 1은 월요일, 5는 금요일 이런식이다.\n",
    "        fkey 인자를 생략하면 자동으로 오늘의 식단 가져옴\n",
    "        :return: None\n",
    "        \"\"\"\n",
    "        # res = requests.get(self.base_url, params={'fkey': 5})\n",
    "        res = requests.get(self.base_url)\n",
    "        jsn = res.json()\n",
    "        self.pupil_food = jsn.get('학생식당')\n",
    "        self.the_kitchen = jsn.get('THE KITCHEN')\n",
    "        self.snack_corner = jsn.get('스넥코너')\n",
    "        self.food_court = jsn.get('푸드코트')\n",
    "        self.faculty_food = jsn.get('교직원식당')\n",
    "\n",
    "    def get_faculty_food(self):\n",
    "        ret_dict = {}\n",
    "        for section in self.faculty_food:\n",
    "            ret_dict.update({section: []})\n",
    "            soup = BeautifulSoup(self.faculty_food[section], 'html.parser')\n",
    "            t = ''\n",
    "            for i in soup.find_all(['div', 'span']):\n",
    "                t += '\\n' + i.text\n",
    "\n",
    "            hangul = re.compile('[^가-힣 ]+')\n",
    "\n",
    "            res = hangul.sub('', ' '.join(t.split()))\n",
    "            res = ' '.join(res.split())\n",
    "            res = res.split(' ')\n",
    "\n",
    "            ret_dict.update({section: res})\n",
    "        return ret_dict\n",
    "\n",
    "    def get_pupil_food(self):\n",
    "        ret_dict = {}\n",
    "        for section in self.pupil_food:\n",
    "            ret_dict.update({section: []})\n",
    "            soup = BeautifulSoup(self.pupil_food[section], 'html.parser')\n",
    "            t = ''\n",
    "            for i in soup.find_all(['div', 'span']):\n",
    "                t += '\\n' + i.text\n",
    "\n",
    "            hangul = re.compile('[^가-힣 ]+')\n",
    "\n",
    "            res = hangul.sub('', ' '.join(t.split()))\n",
    "            res = ' '.join(res.split())\n",
    "            res = res.split(' ')\n",
    "\n",
    "            ret_dict.update({section: res})\n",
    "        return ret_dict\n",
    "\n",
    "    def get_the_kitchen(self):\n",
    "        \"\"\"\n",
    "        TODO: 정규표현식 이용해서 메뉴 가격 깔끔하게 나누기\n",
    "        :return: dict\n",
    "        \"\"\"\n",
    "        ret_dict = {}\n",
    "        for section in self.the_kitchen:\n",
    "            ret_dict.update({section: []})\n",
    "            soup = BeautifulSoup(self.the_kitchen[section], 'html.parser')\n",
    "            ret_dict[section].append(soup.text)\n",
    "        return ret_dict\n",
    "\n",
    "    def get_snack_corner(self):\n",
    "        \"\"\"\n",
    "            TODO: 정규표현식 이용해서 메뉴 가격 깔끔하게 나누기\n",
    "            :return: dict\n",
    "        \"\"\"\n",
    "        ret_dict = {}\n",
    "        for section in self.snack_corner:\n",
    "            ret_dict.update({section: []})\n",
    "            soup = BeautifulSoup(self.snack_corner[section], 'html.parser')\n",
    "            ret_dict[section].append(soup.text)\n",
    "        return ret_dict\n",
    "\n",
    "    def get_food_court(self):\n",
    "        \"\"\"\n",
    "            TODO: 정규표현식 이용해서 메뉴 가격 깔끔하게 나누기\n",
    "            :return: dict\n",
    "        \"\"\"\n",
    "        ret_dict = {}\n",
    "        for section in self.food_court:\n",
    "            ret_dict.update({section: []})\n",
    "            soup = BeautifulSoup(self.food_court[section], 'html.parser')\n",
    "            ret_dict[section].append(soup.text)\n",
    "        return ret_dict\n"
   ]
  },
  {
   "cell_type": "code",
   "execution_count": 34,
   "metadata": {},
   "outputs": [],
   "source": [
    "f = FoodParser()"
   ]
  },
  {
   "cell_type": "code",
   "execution_count": 35,
   "metadata": {},
   "outputs": [],
   "source": [
    "f.refresh()"
   ]
  },
  {
   "cell_type": "code",
   "execution_count": 36,
   "metadata": {},
   "outputs": [
    {
     "data": {
      "text/plain": [
       "{'중식1': '<div>후리가케주먹밥(825kcal)</div><div>미니물냉면</div><div>자반고등어구이</div><div>roasted mackerel </div><div>골뱅이소면무침</div><div>콩나물무침</div><div>단호박튀김</div><div>연시</div><div>포기김치</div>\\r\\n\\r\\n\\r\\n\\r\\n'}"
      ]
     },
     "execution_count": 36,
     "metadata": {},
     "output_type": "execute_result"
    }
   ],
   "source": [
    "f.faculty_food"
   ]
  },
  {
   "cell_type": "code",
   "execution_count": 37,
   "metadata": {},
   "outputs": [],
   "source": [
    "soup = BeautifulSoup(f.faculty_food['중식1'], 'html.parser')"
   ]
  },
  {
   "cell_type": "code",
   "execution_count": 38,
   "metadata": {},
   "outputs": [
    {
     "data": {
      "text/plain": [
       "<div>후리가케주먹밥(825kcal)</div><div>미니물냉면</div><div>자반고등어구이</div><div>roasted mackerel </div><div>골뱅이소면무침</div><div>콩나물무침</div><div>단호박튀김</div><div>연시</div><div>포기김치</div>"
      ]
     },
     "execution_count": 38,
     "metadata": {},
     "output_type": "execute_result"
    }
   ],
   "source": [
    "soup"
   ]
  },
  {
   "cell_type": "code",
   "execution_count": 39,
   "metadata": {},
   "outputs": [],
   "source": [
    "for i in soup.find_all(['span']):\n",
    "    print(i.text)"
   ]
  },
  {
   "cell_type": "code",
   "execution_count": 49,
   "metadata": {},
   "outputs": [],
   "source": [
    "if soup.find_all(['span']) is []:\n",
    "    print ('true')"
   ]
  },
  {
   "cell_type": "code",
   "execution_count": 50,
   "metadata": {},
   "outputs": [
    {
     "data": {
      "text/plain": [
       "19"
      ]
     },
     "execution_count": 50,
     "metadata": {},
     "output_type": "execute_result"
    }
   ],
   "source": [
    "len(s)"
   ]
  },
  {
   "cell_type": "code",
   "execution_count": null,
   "metadata": {
    "collapsed": true
   },
   "outputs": [],
   "source": []
  }
 ],
 "metadata": {
  "kernelspec": {
   "display_name": "Python 3",
   "language": "python",
   "name": "python3"
  },
  "language_info": {
   "codemirror_mode": {
    "name": "ipython",
    "version": 3
   },
   "file_extension": ".py",
   "mimetype": "text/x-python",
   "name": "python",
   "nbconvert_exporter": "python",
   "pygments_lexer": "ipython3",
   "version": "3.5.2"
  }
 },
 "nbformat": 4,
 "nbformat_minor": 2
}
