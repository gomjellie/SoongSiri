{
 "cells": [
  {
   "cell_type": "code",
   "execution_count": 1,
   "metadata": {
    "collapsed": true
   },
   "outputs": [],
   "source": [
    "from bs4 import BeautifulSoup"
   ]
  },
  {
   "cell_type": "code",
   "execution_count": 2,
   "metadata": {
    "collapsed": true
   },
   "outputs": [],
   "source": [
    "import requests"
   ]
  },
  {
   "cell_type": "code",
   "execution_count": 30,
   "metadata": {
    "collapsed": true
   },
   "outputs": [],
   "source": [
    "url = 'http://soongguri.com/menu/m_menujson.php'"
   ]
  },
  {
   "cell_type": "code",
   "execution_count": 37,
   "metadata": {},
   "outputs": [],
   "source": [
    "res = requests.get(url)"
   ]
  },
  {
   "cell_type": "code",
   "execution_count": 38,
   "metadata": {},
   "outputs": [],
   "source": [
    "soup = BeautifulSoup(res.text, 'html.parser')"
   ]
  },
  {
   "cell_type": "code",
   "execution_count": 68,
   "metadata": {},
   "outputs": [],
   "source": [
    "jsn = res.json()"
   ]
  },
  {
   "cell_type": "code",
   "execution_count": 78,
   "metadata": {},
   "outputs": [],
   "source": [
    "pupil_food = jsn.get('학생식당')"
   ]
  },
  {
   "cell_type": "code",
   "execution_count": 79,
   "metadata": {},
   "outputs": [],
   "source": [
    "the_kitchen = jsn.get('THE KITCHEN')"
   ]
  },
  {
   "cell_type": "code",
   "execution_count": 83,
   "metadata": {},
   "outputs": [],
   "source": [
    "snack_corner = jsn.get('스넥코너')"
   ]
  },
  {
   "cell_type": "code",
   "execution_count": 85,
   "metadata": {},
   "outputs": [],
   "source": [
    "food_court = jsn.get('푸드코트')"
   ]
  },
  {
   "cell_type": "code",
   "execution_count": 87,
   "metadata": {},
   "outputs": [],
   "source": [
    "faculty_food = jsn.get('교직원식당')"
   ]
  },
  {
   "cell_type": "code",
   "execution_count": 90,
   "metadata": {},
   "outputs": [],
   "source": [
    "soup = BeautifulSoup(faculty_food['석식1'], 'html.parser')"
   ]
  },
  {
   "cell_type": "code",
   "execution_count": 96,
   "metadata": {},
   "outputs": [
    {
     "name": "stdout",
     "output_type": "stream",
     "text": [
      "\n",
      "두부&삼겹김치찜(822kcal)\n",
      "stir-fried spicy korean-style bacon with kimchi and tofu\n",
      "궁중떡볶이\n",
      "청경채샐러드\n",
      "꽁치튀김\n",
      "강낭콩밥\n",
      "팽이버섯국\n"
     ]
    }
   ],
   "source": [
    "print(soup.text)"
   ]
  },
  {
   "cell_type": "code",
   "execution_count": 98,
   "metadata": {},
   "outputs": [
    {
     "name": "stdout",
     "output_type": "stream",
     "text": [
      "중식1\n",
      "중식2\n",
      "조식\n",
      "석식1\n"
     ]
    }
   ],
   "source": [
    "for i in faculty_food:\n",
    "    print (i)"
   ]
  },
  {
   "cell_type": "code",
   "execution_count": 99,
   "metadata": {
    "collapsed": true
   },
   "outputs": [],
   "source": [
    "def get_faculty_food(self):\n",
    "    ret = ''\n",
    "    for section in self.faculty_food:\n",
    "        ret += '----' + section + '----\\n'\n",
    "        soup = BeautifulSoup(self.faculty_food[section], 'html.parser')\n",
    "        ret += soup.text\n",
    "    return ret\n"
   ]
  },
  {
   "cell_type": "code",
   "execution_count": 109,
   "metadata": {
    "collapsed": true
   },
   "outputs": [],
   "source": [
    "def get_faculty_food():\n",
    "    ret = {}\n",
    "    for section in faculty_food:\n",
    "        ret += '\\n----' + section + '----\\n'\n",
    "        soup = BeautifulSoup(faculty_food[section], 'html.parser')\n",
    "        ret += soup.text\n",
    "    return ret\n"
   ]
  },
  {
   "cell_type": "code",
   "execution_count": 110,
   "metadata": {},
   "outputs": [
    {
     "name": "stdout",
     "output_type": "stream",
     "text": [
      "\n",
      "----중식1----\n",
      "닭다리살(국내산)볶음\n",
      "stir -fried chicken\n",
      "느타리버섯무침\n",
      "파프리카된장무침\n",
      "브로콜리*초장\n",
      "어묵볶음\n",
      "녹두밥(녹두:국내산)\n",
      "802kca\n",
      "----중식2----\n",
      "열무김치보리비빔밥(785kcal)\n",
      "Rice mixed with Vegetable and Young Radish kimchi \n",
      "----조식----\n",
      "조식\n",
      "\n",
      "----석식1----\n",
      "\n",
      "두부&삼겹김치찜(822kcal)\n",
      "stir-fried spicy korean-style bacon with kimchi and tofu\n",
      "궁중떡볶이\n",
      "청경채샐러드\n",
      "꽁치튀김\n",
      "강낭콩밥\n",
      "팽이버섯국\n"
     ]
    }
   ],
   "source": [
    "print(get_faculty_food())"
   ]
  },
  {
   "cell_type": "code",
   "execution_count": 111,
   "metadata": {
    "collapsed": true
   },
   "outputs": [],
   "source": [
    "r = {}\n"
   ]
  },
  {
   "cell_type": "code",
   "execution_count": 126,
   "metadata": {},
   "outputs": [],
   "source": [
    "r.update({'key':[]})"
   ]
  },
  {
   "cell_type": "code",
   "execution_count": 127,
   "metadata": {},
   "outputs": [
    {
     "data": {
      "text/plain": [
       "{'key': [], 'key2': {}}"
      ]
     },
     "execution_count": 127,
     "metadata": {},
     "output_type": "execute_result"
    }
   ],
   "source": [
    "r"
   ]
  },
  {
   "cell_type": "code",
   "execution_count": 116,
   "metadata": {
    "collapsed": true
   },
   "outputs": [],
   "source": []
  },
  {
   "cell_type": "code",
   "execution_count": 128,
   "metadata": {},
   "outputs": [],
   "source": [
    "k = r['key']"
   ]
  },
  {
   "cell_type": "code",
   "execution_count": 129,
   "metadata": {},
   "outputs": [
    {
     "data": {
      "text/plain": [
       "[]"
      ]
     },
     "execution_count": 129,
     "metadata": {},
     "output_type": "execute_result"
    }
   ],
   "source": [
    "k"
   ]
  },
  {
   "cell_type": "code",
   "execution_count": 130,
   "metadata": {
    "collapsed": true
   },
   "outputs": [],
   "source": [
    "k.append('두부')"
   ]
  },
  {
   "cell_type": "code",
   "execution_count": 131,
   "metadata": {},
   "outputs": [
    {
     "data": {
      "text/plain": [
       "['두부']"
      ]
     },
     "execution_count": 131,
     "metadata": {},
     "output_type": "execute_result"
    }
   ],
   "source": [
    "k"
   ]
  },
  {
   "cell_type": "code",
   "execution_count": 132,
   "metadata": {
    "collapsed": true
   },
   "outputs": [],
   "source": [
    "def get_faculty_food():\n",
    "    ret = {}\n",
    "    for section in faculty_food:\n",
    "        ret.update({section: []})\n",
    "        soup = BeautifulSoup(faculty_food[section], 'html.parser')\n",
    "        ret[section].append(soup.text)\n",
    "    return ret"
   ]
  },
  {
   "cell_type": "code",
   "execution_count": 133,
   "metadata": {},
   "outputs": [
    {
     "data": {
      "text/plain": [
       "{'석식1': ['\\n두부&삼겹김치찜(822kcal)\\nstir-fried spicy korean-style bacon with kimchi and tofu\\n궁중떡볶이\\n청경채샐러드\\n꽁치튀김\\n강낭콩밥\\n팽이버섯국'],\n",
       " '조식': ['조식\\n'],\n",
       " '중식1': ['닭다리살(국내산)볶음\\nstir -fried chicken\\n느타리버섯무침\\n파프리카된장무침\\n브로콜리*초장\\n어묵볶음\\n녹두밥(녹두:국내산)\\n802kca'],\n",
       " '중식2': ['열무김치보리비빔밥(785kcal)\\nRice mixed with Vegetable and Young Radish kimchi ']}"
      ]
     },
     "execution_count": 133,
     "metadata": {},
     "output_type": "execute_result"
    }
   ],
   "source": [
    "get_faculty_food()"
   ]
  },
  {
   "cell_type": "code",
   "execution_count": 134,
   "metadata": {},
   "outputs": [
    {
     "data": {
      "text/plain": [
       "{'석식1': '<div>오븐간장치킨</div><div>Oven soy sauce chicken</div>\\r\\n',\n",
       " '중식1': '<div>영양갈비탕</div><div>Short Rib soup</div>\\r\\n\\r\\n\\r\\n',\n",
       " '중식2': '<div>아라비아따 파스타</div><div>Spicy tomato spaghetti</div>\\r\\n\\r\\n',\n",
       " '중식3': '<div>미트볼오므라이스</div><div>Fried rice wrapped in a thin omelette and meatball</div>\\r\\n\\r\\n'}"
      ]
     },
     "execution_count": 134,
     "metadata": {},
     "output_type": "execute_result"
    }
   ],
   "source": [
    "pupil_food"
   ]
  },
  {
   "cell_type": "code",
   "execution_count": 139,
   "metadata": {
    "collapsed": true
   },
   "outputs": [],
   "source": [
    "def get_pupil_food():\n",
    "    ret_dict = {}\n",
    "    for section in pupil_food:\n",
    "        ret_dict.update({section: []})\n",
    "        soup = BeautifulSoup(pupil_food[section], 'html.parser')\n",
    "        ret_dict[section].append(soup.text)\n",
    "    return ret_dict"
   ]
  },
  {
   "cell_type": "code",
   "execution_count": 140,
   "metadata": {},
   "outputs": [
    {
     "data": {
      "text/plain": [
       "{'석식1': ['오븐간장치킨Oven soy sauce chicken\\n'],\n",
       " '중식1': ['영양갈비탕Short Rib soup\\n'],\n",
       " '중식2': ['아라비아따 파스타Spicy tomato spaghetti\\n'],\n",
       " '중식3': ['미트볼오므라이스Fried rice wrapped in a thin omelette and meatball\\n']}"
      ]
     },
     "execution_count": 140,
     "metadata": {},
     "output_type": "execute_result"
    }
   ],
   "source": [
    "get_pupil_food()"
   ]
  },
  {
   "cell_type": "code",
   "execution_count": 141,
   "metadata": {},
   "outputs": [
    {
     "name": "stdout",
     "output_type": "stream",
     "text": [
      "{'중식1': ['영양갈비탕Short Rib soup\\n'], '중식2': ['아라비아따 파스타Spicy tomato spaghetti\\n'], '석식1': ['오븐간장치킨Oven soy sauce chicken\\n'], '중식3': ['미트볼오므라이스Fried rice wrapped in a thin omelette and meatball\\n']}\n"
     ]
    }
   ],
   "source": [
    "print(get_pupil_food())"
   ]
  },
  {
   "cell_type": "code",
   "execution_count": 142,
   "metadata": {},
   "outputs": [
    {
     "data": {
      "text/plain": [
       "['미트볼오므라이스Fried rice wrapped in a thin omelette and meatball\\n']"
      ]
     },
     "execution_count": 142,
     "metadata": {},
     "output_type": "execute_result"
    }
   ],
   "source": [
    "get_pupil_food()['중식3']"
   ]
  },
  {
   "cell_type": "code",
   "execution_count": 143,
   "metadata": {
    "collapsed": true
   },
   "outputs": [],
   "source": [
    "def get_the_kitchen():\n",
    "    ret_dict = {}\n",
    "    for section in the_kitchen:\n",
    "        ret_dict.update({section: []})\n",
    "        soup = BeautifulSoup(the_kitchen[section], 'html.parser')\n",
    "        ret_dict[section].append(soup.text)\n",
    "    return ret_dict"
   ]
  },
  {
   "cell_type": "code",
   "execution_count": 177,
   "metadata": {},
   "outputs": [],
   "source": [
    "d = get_the_kitchen()"
   ]
  },
  {
   "cell_type": "code",
   "execution_count": 181,
   "metadata": {},
   "outputs": [],
   "source": [
    "t = d['메뉴'][0]"
   ]
  },
  {
   "cell_type": "code",
   "execution_count": 182,
   "metadata": {},
   "outputs": [
    {
     "name": "stdout",
     "output_type": "stream",
     "text": [
      "#Pasta#- cream sauce카르보나라파스타  - 6.0만조파스타  -  7.0크림소시지파스타  -  6.0새우크림파스타  - 6.0스피나치 파스타  - 6.0해물크림파스타  - 7.0빠네 파스타  - 8.0 (화.목10%할인)  7.2- tomato sauce포모도로파스타  - 6.0아라비아타파스타  - 6.0스파이시치킨파스타  - 7.0해물토마토파스타  - 7.0생모짜렐라페스토 파스타  -7.0- rose sauce쉬림프로제 파스타  - 7.0머쉬룸로제 파스타  - 7.0게살로제 파스타  - 7.0- olive oil sauce알리오올리오  - 6.0상하이파스타  - 7.0봉골레  - 7.0 해물바질페스토 파스타  - 7.0# STEAK!목살 스테이크  - 9.0 (월요일 10%할인) 8.1립 스테이크 - 9.0  (수요일 10%할인) 8.1 #PILAF & RISOTTO#-pilaf(fried rice)치킨필라프  - 6.0해물필라프  - 6.0마늘불고기필라프  - 6.0마베큐소시지필라프 - 6.0목살필라프 - 6.0-risotto매운치킨토마토 리조또 - 7.0치킨크림 리조또  - 7.0쉬림프로제 리조또 - 7.0바베큐립 리조또 - 8.0 (금요일 10%할인) 7.2 #PIZZA#감튀피자  - 10.0  (월요일 10%할인) 9.1치킨텐더피자  - 10.0 (수요일 10%할인) 9.1마리게리따피자  - 10.0 고르곤졸라피자  - 10.0불고기피자  - 10.0 (화요일 10%할인) 9.1후레쉬샐러드피자  - 10.0페퍼로니피자 - 10.0 (목요일 10%할인) 9.1루꼴라피자 - 10.0 (금요일 10%할인) 9.1- 샐러드, 음료, 디저트 etc.- \n",
      "\n"
     ]
    }
   ],
   "source": [
    "print(t)"
   ]
  },
  {
   "cell_type": "code",
   "execution_count": 185,
   "metadata": {},
   "outputs": [],
   "source": [
    "def get_snack_corner():\n",
    "    ret_dict = {}\n",
    "    for section in snack_corner:\n",
    "        ret_dict.update({section: []})\n",
    "        soup = BeautifulSoup(snack_corner[section], 'html.parser')\n",
    "        ret_dict[section].append(soup.text)\n",
    "    return ret_dict"
   ]
  },
  {
   "cell_type": "code",
   "execution_count": 186,
   "metadata": {},
   "outputs": [
    {
     "data": {
      "text/plain": [
       "{'메뉴': ['냉모밀국수/군만두-3.5 <new>비빔쫄면 - 3.0\\xa0\\xa0 <new>짜.계.치 - 2.5계란신라면 - 2.5치즈신라면 - 2.5\\xa0떡만두신라면 - 2.7피자치즈라볶이 - 3.5\\xa0밥류제육비빔밥 - 3.0 <new>제육주먹밥 - 3.0 <new>치킨마요컵밥-2.5옛날도시락 - 2.0공기밥 - 1.0\\xa0김밥류SSU야채김밥 -2.0참치김밥 - 2.5크림치즈김밥 - 2.5\\xa0토스트햄치즈토스트 - 2.5베이컨토스트 - 2.5 불갈비토스트 - 2.5샐러드류연어샐러드-2.5\\xa0간식류빅핫도그 - 1.0\\n']}"
      ]
     },
     "execution_count": 186,
     "metadata": {},
     "output_type": "execute_result"
    }
   ],
   "source": [
    "get_snack_corner()"
   ]
  },
  {
   "cell_type": "code",
   "execution_count": 187,
   "metadata": {
    "collapsed": true
   },
   "outputs": [],
   "source": [
    "    def get_food_court():\n",
    "        ret_dict = {}\n",
    "        for section in food_court:\n",
    "            ret_dict.update({section: []})\n",
    "            soup = BeautifulSoup(food_court[section], 'html.parser')\n",
    "            ret_dict[section].append(soup.text)\n",
    "        return ret_dict"
   ]
  },
  {
   "cell_type": "code",
   "execution_count": 188,
   "metadata": {},
   "outputs": [
    {
     "data": {
      "text/plain": [
       "{'메뉴': ['#퓨전(계절)김치말이쌀국수 - 5.0(Kimchi\\xa0noodle soup)찜닭+공기밥 - 6.5(braised spicy chicken with vegetables + rice)삼선짬뽕 - 6.0(spice seafood noodle soup)짬뽕/짬뽕밥 - 6.0(spicy seafood soup/rice)팟타이(볶음쌀국수) - 6.5(Pad thai)치킨마늘볶음밥 - 6.0(Chicken and garlic fried rice)#직화몽골리안비프벤또 - 6.0(Monglian beef\\xa0bentto)빠네파스타\\xa0-7.0(Pasta in bread)로스티치킨샐러드 - 4.5(Rosti chicken salad)#일식 회덮밥 - 6.0(Rice with sliced raw fish)김치치즈가츠동 - 6.5(Kimchi and cheese gacheudong)규동 - 6.5(Rice with beef)로스까스 - 6.5(Pork cutlet)\\xa0\\n']}"
      ]
     },
     "execution_count": 188,
     "metadata": {},
     "output_type": "execute_result"
    }
   ],
   "source": [
    "get_food_court()"
   ]
  },
  {
   "cell_type": "code",
   "execution_count": null,
   "metadata": {
    "collapsed": true
   },
   "outputs": [],
   "source": []
  }
 ],
 "metadata": {
  "kernelspec": {
   "display_name": "Python 3",
   "language": "python",
   "name": "python3"
  },
  "language_info": {
   "codemirror_mode": {
    "name": "ipython",
    "version": 3
   },
   "file_extension": ".py",
   "mimetype": "text/x-python",
   "name": "python",
   "nbconvert_exporter": "python",
   "pygments_lexer": "ipython3",
   "version": "3.5.2"
  }
 },
 "nbformat": 4,
 "nbformat_minor": 2
}
