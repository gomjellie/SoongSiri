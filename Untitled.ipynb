{
 "cells": [
  {
   "cell_type": "code",
   "execution_count": 1,
   "metadata": {
    "collapsed": true
   },
   "outputs": [],
   "source": [
    "from bs4 import BeautifulSoup"
   ]
  },
  {
   "cell_type": "code",
   "execution_count": 2,
   "metadata": {
    "collapsed": true
   },
   "outputs": [],
   "source": [
    "import requests"
   ]
  },
  {
   "cell_type": "code",
   "execution_count": 30,
   "metadata": {
    "collapsed": true
   },
   "outputs": [],
   "source": [
    "url = 'http://soongguri.com/menu/m_menujson.php'"
   ]
  },
  {
   "cell_type": "code",
   "execution_count": 37,
   "metadata": {},
   "outputs": [],
   "source": [
    "res = requests.get(url)"
   ]
  },
  {
   "cell_type": "code",
   "execution_count": 38,
   "metadata": {},
   "outputs": [],
   "source": [
    "soup = BeautifulSoup(res.text, 'html.parser')"
   ]
  },
  {
   "cell_type": "code",
   "execution_count": 68,
   "metadata": {},
   "outputs": [],
   "source": [
    "jsn = res.json()"
   ]
  },
  {
   "cell_type": "code",
   "execution_count": 78,
   "metadata": {},
   "outputs": [],
   "source": [
    "pupil_food = jsn.get('학생식당')"
   ]
  },
  {
   "cell_type": "code",
   "execution_count": 79,
   "metadata": {},
   "outputs": [],
   "source": [
    "the_kitchen = jsn.get('THE KITCHEN')"
   ]
  },
  {
   "cell_type": "code",
   "execution_count": 83,
   "metadata": {},
   "outputs": [],
   "source": [
    "snack_corner = jsn.get('스넥코너')"
   ]
  },
  {
   "cell_type": "code",
   "execution_count": 85,
   "metadata": {},
   "outputs": [],
   "source": [
    "food_court = jsn.get('푸드코트')"
   ]
  },
  {
   "cell_type": "code",
   "execution_count": 87,
   "metadata": {},
   "outputs": [],
   "source": [
    "faculty_food = jsn.get('교직원식당')"
   ]
  },
  {
   "cell_type": "code",
   "execution_count": 90,
   "metadata": {},
   "outputs": [],
   "source": [
    "soup = BeautifulSoup(faculty_food['석식1'], 'html.parser')"
   ]
  },
  {
   "cell_type": "code",
   "execution_count": 96,
   "metadata": {},
   "outputs": [
    {
     "name": "stdout",
     "output_type": "stream",
     "text": [
      "\n",
      "두부&삼겹김치찜(822kcal)\n",
      "stir-fried spicy korean-style bacon with kimchi and tofu\n",
      "궁중떡볶이\n",
      "청경채샐러드\n",
      "꽁치튀김\n",
      "강낭콩밥\n",
      "팽이버섯국\n"
     ]
    }
   ],
   "source": [
    "print(soup.text)"
   ]
  },
  {
   "cell_type": "code",
   "execution_count": 98,
   "metadata": {},
   "outputs": [
    {
     "name": "stdout",
     "output_type": "stream",
     "text": [
      "중식1\n",
      "중식2\n",
      "조식\n",
      "석식1\n"
     ]
    }
   ],
   "source": [
    "for i in faculty_food:\n",
    "    print (i)"
   ]
  },
  {
   "cell_type": "code",
   "execution_count": 99,
   "metadata": {
    "collapsed": true
   },
   "outputs": [],
   "source": [
    "def get_faculty_food(self):\n",
    "    ret = ''\n",
    "    for section in self.faculty_food:\n",
    "        ret += '----' + section + '----\\n'\n",
    "        soup = BeautifulSoup(self.faculty_food[section], 'html.parser')\n",
    "        ret += soup.text\n",
    "    return ret\n"
   ]
  },
  {
   "cell_type": "code",
   "execution_count": 109,
   "metadata": {
    "collapsed": true
   },
   "outputs": [],
   "source": [
    "def get_faculty_food():\n",
    "    ret = {}\n",
    "    for section in faculty_food:\n",
    "        ret += '\\n----' + section + '----\\n'\n",
    "        soup = BeautifulSoup(faculty_food[section], 'html.parser')\n",
    "        ret += soup.text\n",
    "    return ret\n"
   ]
  },
  {
   "cell_type": "code",
   "execution_count": 110,
   "metadata": {},
   "outputs": [
    {
     "name": "stdout",
     "output_type": "stream",
     "text": [
      "\n",
      "----중식1----\n",
      "닭다리살(국내산)볶음\n",
      "stir -fried chicken\n",
      "느타리버섯무침\n",
      "파프리카된장무침\n",
      "브로콜리*초장\n",
      "어묵볶음\n",
      "녹두밥(녹두:국내산)\n",
      "802kca\n",
      "----중식2----\n",
      "열무김치보리비빔밥(785kcal)\n",
      "Rice mixed with Vegetable and Young Radish kimchi \n",
      "----조식----\n",
      "조식\n",
      "\n",
      "----석식1----\n",
      "\n",
      "두부&삼겹김치찜(822kcal)\n",
      "stir-fried spicy korean-style bacon with kimchi and tofu\n",
      "궁중떡볶이\n",
      "청경채샐러드\n",
      "꽁치튀김\n",
      "강낭콩밥\n",
      "팽이버섯국\n"
     ]
    }
   ],
   "source": [
    "print(get_faculty_food())"
   ]
  },
  {
   "cell_type": "code",
   "execution_count": 111,
   "metadata": {
    "collapsed": true
   },
   "outputs": [],
   "source": [
    "r = {}\n"
   ]
  },
  {
   "cell_type": "code",
   "execution_count": 126,
   "metadata": {},
   "outputs": [],
   "source": [
    "r.update({'key':[]})"
   ]
  },
  {
   "cell_type": "code",
   "execution_count": 127,
   "metadata": {},
   "outputs": [
    {
     "data": {
      "text/plain": [
       "{'key': [], 'key2': {}}"
      ]
     },
     "execution_count": 127,
     "metadata": {},
     "output_type": "execute_result"
    }
   ],
   "source": [
    "r"
   ]
  },
  {
   "cell_type": "code",
   "execution_count": 116,
   "metadata": {
    "collapsed": true
   },
   "outputs": [],
   "source": []
  },
  {
   "cell_type": "code",
   "execution_count": 128,
   "metadata": {},
   "outputs": [],
   "source": [
    "k = r['key']"
   ]
  },
  {
   "cell_type": "code",
   "execution_count": 129,
   "metadata": {},
   "outputs": [
    {
     "data": {
      "text/plain": [
       "[]"
      ]
     },
     "execution_count": 129,
     "metadata": {},
     "output_type": "execute_result"
    }
   ],
   "source": [
    "k"
   ]
  },
  {
   "cell_type": "code",
   "execution_count": 130,
   "metadata": {
    "collapsed": true
   },
   "outputs": [],
   "source": [
    "k.append('두부')"
   ]
  },
  {
   "cell_type": "code",
   "execution_count": 131,
   "metadata": {},
   "outputs": [
    {
     "data": {
      "text/plain": [
       "['두부']"
      ]
     },
     "execution_count": 131,
     "metadata": {},
     "output_type": "execute_result"
    }
   ],
   "source": [
    "k"
   ]
  },
  {
   "cell_type": "code",
   "execution_count": 132,
   "metadata": {
    "collapsed": true
   },
   "outputs": [],
   "source": [
    "def get_faculty_food():\n",
    "    ret = {}\n",
    "    for section in faculty_food:\n",
    "        ret.update({section: []})\n",
    "        soup = BeautifulSoup(faculty_food[section], 'html.parser')\n",
    "        ret[section].append(soup.text)\n",
    "    return ret"
   ]
  },
  {
   "cell_type": "code",
   "execution_count": 133,
   "metadata": {},
   "outputs": [
    {
     "data": {
      "text/plain": [
       "{'석식1': ['\\n두부&삼겹김치찜(822kcal)\\nstir-fried spicy korean-style bacon with kimchi and tofu\\n궁중떡볶이\\n청경채샐러드\\n꽁치튀김\\n강낭콩밥\\n팽이버섯국'],\n",
       " '조식': ['조식\\n'],\n",
       " '중식1': ['닭다리살(국내산)볶음\\nstir -fried chicken\\n느타리버섯무침\\n파프리카된장무침\\n브로콜리*초장\\n어묵볶음\\n녹두밥(녹두:국내산)\\n802kca'],\n",
       " '중식2': ['열무김치보리비빔밥(785kcal)\\nRice mixed with Vegetable and Young Radish kimchi ']}"
      ]
     },
     "execution_count": 133,
     "metadata": {},
     "output_type": "execute_result"
    }
   ],
   "source": [
    "get_faculty_food()"
   ]
  },
  {
   "cell_type": "code",
   "execution_count": 134,
   "metadata": {},
   "outputs": [
    {
     "data": {
      "text/plain": [
       "{'석식1': '<div>오븐간장치킨</div><div>Oven soy sauce chicken</div>\\r\\n',\n",
       " '중식1': '<div>영양갈비탕</div><div>Short Rib soup</div>\\r\\n\\r\\n\\r\\n',\n",
       " '중식2': '<div>아라비아따 파스타</div><div>Spicy tomato spaghetti</div>\\r\\n\\r\\n',\n",
       " '중식3': '<div>미트볼오므라이스</div><div>Fried rice wrapped in a thin omelette and meatball</div>\\r\\n\\r\\n'}"
      ]
     },
     "execution_count": 134,
     "metadata": {},
     "output_type": "execute_result"
    }
   ],
   "source": [
    "pupil_food"
   ]
  },
  {
   "cell_type": "code",
   "execution_count": 139,
   "metadata": {
    "collapsed": true
   },
   "outputs": [],
   "source": [
    "def get_pupil_food():\n",
    "    ret_dict = {}\n",
    "    for section in pupil_food:\n",
    "        ret_dict.update({section: []})\n",
    "        soup = BeautifulSoup(pupil_food[section], 'html.parser')\n",
    "        ret_dict[section].append(soup.text)\n",
    "    return ret_dict"
   ]
  },
  {
   "cell_type": "code",
   "execution_count": 140,
   "metadata": {},
   "outputs": [
    {
     "data": {
      "text/plain": [
       "{'석식1': ['오븐간장치킨Oven soy sauce chicken\\n'],\n",
       " '중식1': ['영양갈비탕Short Rib soup\\n'],\n",
       " '중식2': ['아라비아따 파스타Spicy tomato spaghetti\\n'],\n",
       " '중식3': ['미트볼오므라이스Fried rice wrapped in a thin omelette and meatball\\n']}"
      ]
     },
     "execution_count": 140,
     "metadata": {},
     "output_type": "execute_result"
    }
   ],
   "source": [
    "get_pupil_food()"
   ]
  },
  {
   "cell_type": "code",
   "execution_count": 141,
   "metadata": {},
   "outputs": [
    {
     "name": "stdout",
     "output_type": "stream",
     "text": [
      "{'중식1': ['영양갈비탕Short Rib soup\\n'], '중식2': ['아라비아따 파스타Spicy tomato spaghetti\\n'], '석식1': ['오븐간장치킨Oven soy sauce chicken\\n'], '중식3': ['미트볼오므라이스Fried rice wrapped in a thin omelette and meatball\\n']}\n"
     ]
    }
   ],
   "source": [
    "print(get_pupil_food())"
   ]
  },
  {
   "cell_type": "code",
   "execution_count": 142,
   "metadata": {},
   "outputs": [
    {
     "data": {
      "text/plain": [
       "['미트볼오므라이스Fried rice wrapped in a thin omelette and meatball\\n']"
      ]
     },
     "execution_count": 142,
     "metadata": {},
     "output_type": "execute_result"
    }
   ],
   "source": [
    "get_pupil_food()['중식3']"
   ]
  },
  {
   "cell_type": "code",
   "execution_count": 143,
   "metadata": {
    "collapsed": true
   },
   "outputs": [],
   "source": [
    "def get_the_kitchen():\n",
    "    ret_dict = {}\n",
    "    for section in the_kitchen:\n",
    "        ret_dict.update({section: []})\n",
    "        soup = BeautifulSoup(the_kitchen[section], 'html.parser')\n",
    "        ret_dict[section].append(soup.text)\n",
    "    return ret_dict"
   ]
  },
  {
   "cell_type": "code",
   "execution_count": 177,
   "metadata": {},
   "outputs": [],
   "source": [
    "d = get_the_kitchen()"
   ]
  },
  {
   "cell_type": "code",
   "execution_count": 181,
   "metadata": {},
   "outputs": [],
   "source": [
    "t = d['메뉴'][0]"
   ]
  },
  {
   "cell_type": "code",
   "execution_count": 182,
   "metadata": {},
   "outputs": [
    {
     "name": "stdout",
     "output_type": "stream",
     "text": [
      "#Pasta#- cream sauce카르보나라파스타  - 6.0만조파스타  -  7.0크림소시지파스타  -  6.0새우크림파스타  - 6.0스피나치 파스타  - 6.0해물크림파스타  - 7.0빠네 파스타  - 8.0 (화.목10%할인)  7.2- tomato sauce포모도로파스타  - 6.0아라비아타파스타  - 6.0스파이시치킨파스타  - 7.0해물토마토파스타  - 7.0생모짜렐라페스토 파스타  -7.0- rose sauce쉬림프로제 파스타  - 7.0머쉬룸로제 파스타  - 7.0게살로제 파스타  - 7.0- olive oil sauce알리오올리오  - 6.0상하이파스타  - 7.0봉골레  - 7.0 해물바질페스토 파스타  - 7.0# STEAK!목살 스테이크  - 9.0 (월요일 10%할인) 8.1립 스테이크 - 9.0  (수요일 10%할인) 8.1 #PILAF & RISOTTO#-pilaf(fried rice)치킨필라프  - 6.0해물필라프  - 6.0마늘불고기필라프  - 6.0마베큐소시지필라프 - 6.0목살필라프 - 6.0-risotto매운치킨토마토 리조또 - 7.0치킨크림 리조또  - 7.0쉬림프로제 리조또 - 7.0바베큐립 리조또 - 8.0 (금요일 10%할인) 7.2 #PIZZA#감튀피자  - 10.0  (월요일 10%할인) 9.1치킨텐더피자  - 10.0 (수요일 10%할인) 9.1마리게리따피자  - 10.0 고르곤졸라피자  - 10.0불고기피자  - 10.0 (화요일 10%할인) 9.1후레쉬샐러드피자  - 10.0페퍼로니피자 - 10.0 (목요일 10%할인) 9.1루꼴라피자 - 10.0 (금요일 10%할인) 9.1- 샐러드, 음료, 디저트 etc.- \n",
      "\n"
     ]
    }
   ],
   "source": [
    "print(t)"
   ]
  },
  {
   "cell_type": "code",
   "execution_count": 185,
   "metadata": {},
   "outputs": [],
   "source": [
    "def get_snack_corner():\n",
    "    ret_dict = {}\n",
    "    for section in snack_corner:\n",
    "        ret_dict.update({section: []})\n",
    "        soup = BeautifulSoup(snack_corner[section], 'html.parser')\n",
    "        ret_dict[section].append(soup.text)\n",
    "    return ret_dict"
   ]
  },
  {
   "cell_type": "code",
   "execution_count": 186,
   "metadata": {},
   "outputs": [
    {
     "data": {
      "text/plain": [
       "{'메뉴': ['냉모밀국수/군만두-3.5 <new>비빔쫄면 - 3.0\\xa0\\xa0 <new>짜.계.치 - 2.5계란신라면 - 2.5치즈신라면 - 2.5\\xa0떡만두신라면 - 2.7피자치즈라볶이 - 3.5\\xa0밥류제육비빔밥 - 3.0 <new>제육주먹밥 - 3.0 <new>치킨마요컵밥-2.5옛날도시락 - 2.0공기밥 - 1.0\\xa0김밥류SSU야채김밥 -2.0참치김밥 - 2.5크림치즈김밥 - 2.5\\xa0토스트햄치즈토스트 - 2.5베이컨토스트 - 2.5 불갈비토스트 - 2.5샐러드류연어샐러드-2.5\\xa0간식류빅핫도그 - 1.0\\n']}"
      ]
     },
     "execution_count": 186,
     "metadata": {},
     "output_type": "execute_result"
    }
   ],
   "source": [
    "get_snack_corner()"
   ]
  },
  {
   "cell_type": "code",
   "execution_count": 187,
   "metadata": {
    "collapsed": true
   },
   "outputs": [],
   "source": [
    "    def get_food_court():\n",
    "        ret_dict = {}\n",
    "        for section in food_court:\n",
    "            ret_dict.update({section: []})\n",
    "            soup = BeautifulSoup(food_court[section], 'html.parser')\n",
    "            ret_dict[section].append(soup.text)\n",
    "        return ret_dict"
   ]
  },
  {
   "cell_type": "code",
   "execution_count": 188,
   "metadata": {},
   "outputs": [
    {
     "data": {
      "text/plain": [
       "{'메뉴': ['#퓨전(계절)김치말이쌀국수 - 5.0(Kimchi\\xa0noodle soup)찜닭+공기밥 - 6.5(braised spicy chicken with vegetables + rice)삼선짬뽕 - 6.0(spice seafood noodle soup)짬뽕/짬뽕밥 - 6.0(spicy seafood soup/rice)팟타이(볶음쌀국수) - 6.5(Pad thai)치킨마늘볶음밥 - 6.0(Chicken and garlic fried rice)#직화몽골리안비프벤또 - 6.0(Monglian beef\\xa0bentto)빠네파스타\\xa0-7.0(Pasta in bread)로스티치킨샐러드 - 4.5(Rosti chicken salad)#일식 회덮밥 - 6.0(Rice with sliced raw fish)김치치즈가츠동 - 6.5(Kimchi and cheese gacheudong)규동 - 6.5(Rice with beef)로스까스 - 6.5(Pork cutlet)\\xa0\\n']}"
      ]
     },
     "execution_count": 188,
     "metadata": {},
     "output_type": "execute_result"
    }
   ],
   "source": [
    "get_food_court()"
   ]
  },
  {
   "cell_type": "code",
   "execution_count": 189,
   "metadata": {
    "collapsed": true
   },
   "outputs": [],
   "source": [
    "from bs4 import BeautifulSoup\n",
    "import requests\n",
    "\n",
    "\n",
    "class Parser():\n",
    "    def __init__(self):\n",
    "        self.base_url = None\n",
    "\n",
    "    def refresh(self):\n",
    "        pass\n",
    "\n",
    "\n",
    "class FoodParser(Parser):\n",
    "    def __init__(self):\n",
    "        self.base_url = 'http://soongguri.com/menu/m_menujson.php'\n",
    "        self.faculty_food = None\n",
    "        self.pupil_food = None\n",
    "        self.the_kitchen = None\n",
    "        self.snack_corner = None\n",
    "        self.food_court = None\n",
    "\n",
    "    def refresh(self):\n",
    "        res = requests.get(self.base_url)\n",
    "        jsn = res.json()\n",
    "        self.pupil_food = jsn.get('학생식당')\n",
    "        self.the_kitchen = jsn.get('THE KITCHEN')\n",
    "        self.snack_corner = jsn.get('스넥코너')\n",
    "        self.food_court = jsn.get('푸드코트')\n",
    "        self.faculty_food = jsn.get('교직원식당')\n",
    "\n",
    "    def get_faculty_food(self):\n",
    "        ret_dict = {}\n",
    "        for section in self.faculty_food:\n",
    "            ret_dict.update({section: []})\n",
    "            soup = BeautifulSoup(self.faculty_food[section], 'html.parser')\n",
    "            ret_dict[section].append(soup.text)\n",
    "        return ret_dict\n",
    "\n",
    "    def get_pupil_food(self):\n",
    "        ret_dict = {}\n",
    "        for section in self.pupil_food:\n",
    "            ret_dict.update({section: []})\n",
    "            soup = BeautifulSoup(self.pupil_food[section], 'html.parser')\n",
    "            ret_dict[section].append(soup.text)\n",
    "        return ret_dict\n",
    "\n",
    "    def get_the_kitchen(self):\n",
    "        \"\"\"\n",
    "        TODO: 정규표현식 이용해서 메뉴 가격 깔끔하게 나누기\n",
    "        :return: dict\n",
    "        \"\"\"\n",
    "        ret_dict = {}\n",
    "        for section in self.the_kitchen:\n",
    "            ret_dict.update({section: []})\n",
    "            soup = BeautifulSoup(self.the_kitchen[section], 'html.parser')\n",
    "            ret_dict[section].append(soup.text)\n",
    "        return ret_dict\n",
    "\n",
    "    def get_snack_corner(self):\n",
    "        \"\"\"\n",
    "            TODO: 정규표현식 이용해서 메뉴 가격 깔끔하게 나누기\n",
    "            :return: dict\n",
    "        \"\"\"\n",
    "        ret_dict = {}\n",
    "        for section in self.snack_corner:\n",
    "            ret_dict.update({section: []})\n",
    "            soup = BeautifulSoup(self.snack_corner[section], 'html.parser')\n",
    "            ret_dict[section].append(soup.text)\n",
    "        return ret_dict\n",
    "\n",
    "    def get_food_court(self):\n",
    "        \"\"\"\n",
    "            TODO: 정규표현식 이용해서 메뉴 가격 깔끔하게 나누기\n",
    "            :return: dict\n",
    "        \"\"\"\n",
    "        ret_dict = {}\n",
    "        for section in self.food_court:\n",
    "            ret_dict.update({section: []})\n",
    "            soup = BeautifulSoup(self.food_court[section], 'html.parser')\n",
    "            ret_dict[section].append(soup.text)\n",
    "        return ret_dict\n"
   ]
  },
  {
   "cell_type": "code",
   "execution_count": 190,
   "metadata": {
    "collapsed": true
   },
   "outputs": [],
   "source": [
    "f = FoodParser()"
   ]
  },
  {
   "cell_type": "code",
   "execution_count": 191,
   "metadata": {
    "collapsed": true
   },
   "outputs": [],
   "source": [
    "f.refresh()"
   ]
  },
  {
   "cell_type": "code",
   "execution_count": 192,
   "metadata": {},
   "outputs": [
    {
     "data": {
      "text/plain": [
       "{'석식1': ['\\n비프스튜(827kcal)\\nbeef Stew'],\n",
       " '조식': ['조식\\n'],\n",
       " '중식1': ['\\n보쌈정식(864Kcal)\\nCooked pork and vegetables served with wrap sauce'],\n",
       " '중식2': ['\\n들기름나물볶음밥\\n(831Kcal)\\nWild vegetable stir fried rice ']}"
      ]
     },
     "execution_count": 192,
     "metadata": {},
     "output_type": "execute_result"
    }
   ],
   "source": [
    "f.get_faculty_food()"
   ]
  },
  {
   "cell_type": "code",
   "execution_count": 193,
   "metadata": {},
   "outputs": [
    {
     "data": {
      "text/plain": [
       "{'메뉴': ['#퓨전(계절)김치말이쌀국수 - 5.0(Kimchi\\xa0noodle soup)찜닭+공기밥 - 6.5(braised spicy chicken with vegetables + rice)삼선짬뽕 - 6.0(spice seafood noodle soup)짬뽕/짬뽕밥 - 6.0(spicy seafood soup/rice)팟타이(볶음쌀국수) - 6.5(Pad thai)치킨마늘볶음밥 - 6.0(Chicken and garlic fried rice)#직화몽골리안비프벤또 - 6.0(Monglian beef\\xa0bentto)빠네파스타\\xa0-7.0(Pasta in bread)로스티치킨샐러드 - 4.5(Rosti chicken salad)#일식 회덮밥 - 6.0(Rice with sliced raw fish)김치치즈가츠동 - 6.5(Kimchi and cheese gacheudong)규동 - 6.5(Rice with beef)로스까스 - 6.5(Pork cutlet)\\xa0\\n']}"
      ]
     },
     "execution_count": 193,
     "metadata": {},
     "output_type": "execute_result"
    }
   ],
   "source": [
    "f.get_food_court()"
   ]
  },
  {
   "cell_type": "code",
   "execution_count": 194,
   "metadata": {},
   "outputs": [
    {
     "data": {
      "text/plain": [
       "{'석식1': ['순두부찌개soft tofu stew\\n'],\n",
       " '중식1': ['돈육김치전골Hot pot kimchi and pork\\n'],\n",
       " '중식2': ['야채카레*난Curry and naan\\n'],\n",
       " '중식3': ['크림카레텐더Chicken curry and cream\\n']}"
      ]
     },
     "execution_count": 194,
     "metadata": {},
     "output_type": "execute_result"
    }
   ],
   "source": [
    "f.get_pupil_food()"
   ]
  },
  {
   "cell_type": "code",
   "execution_count": 196,
   "metadata": {},
   "outputs": [
    {
     "data": {
      "text/plain": [
       "{'메뉴': ['냉모밀국수/군만두-3.5 <new>비빔쫄면 - 3.0\\xa0\\xa0 <new>짜.계.치 - 2.5계란신라면 - 2.5치즈신라면 - 2.5\\xa0떡만두신라면 - 2.7피자치즈라볶이 - 3.5\\xa0밥류제육비빔밥 - 3.0 <new>제육주먹밥 - 3.0 <new>치킨마요컵밥-2.5옛날도시락 - 2.0공기밥 - 1.0\\xa0김밥류SSU야채김밥 -2.0참치김밥 - 2.5크림치즈김밥 - 2.5\\xa0토스트햄치즈토스트 - 2.5베이컨토스트 - 2.5 불갈비토스트 - 2.5샐러드류연어샐러드-2.5\\xa0간식류빅핫도그 - 1.0\\n']}"
      ]
     },
     "execution_count": 196,
     "metadata": {},
     "output_type": "execute_result"
    }
   ],
   "source": [
    "f.get_snack_corner()"
   ]
  },
  {
   "cell_type": "code",
   "execution_count": 197,
   "metadata": {},
   "outputs": [
    {
     "data": {
      "text/plain": [
       "{'메뉴': ['#Pasta#- cream sauce카르보나라파스타\\xa0 - 6.0만조파스타\\xa0 -\\xa0 7.0크림소시지파스타\\xa0 -\\xa0 6.0새우크림파스타\\xa0 - 6.0스피나치 파스타\\xa0 - 6.0해물크림파스타\\xa0 - 7.0빠네 파스타\\xa0 - 8.0 (화.목10%할인)\\xa0 7.2- tomato sauce포모도로파스타\\xa0 - 6.0아라비아타파스타\\xa0 - 6.0스파이시치킨파스타\\xa0 - 7.0해물토마토파스타\\xa0 - 7.0생모짜렐라페스토 파스타\\xa0 -7.0- rose sauce쉬림프로제 파스타\\xa0 - 7.0머쉬룸로제 파스타\\xa0 - 7.0게살로제 파스타\\xa0 - 7.0- olive oil sauce알리오올리오\\xa0 - 6.0상하이파스타\\xa0 - 7.0봉골레\\xa0 - 7.0 해물바질페스토 파스타\\xa0 - 7.0# STEAK!목살 스테이크\\xa0 - 9.0 (월요일 10%할인) 8.1립 스테이크 - 9.0\\xa0 (수요일 10%할인) 8.1\\xa0#PILAF & RISOTTO#-pilaf(fried rice)치킨필라프\\xa0 - 6.0해물필라프\\xa0 - 6.0마늘불고기필라프\\xa0 - 6.0마베큐소시지필라프 - 6.0목살필라프 - 6.0-risotto매운치킨토마토 리조또 - 7.0치킨크림 리조또\\xa0 - 7.0쉬림프로제 리조또 - 7.0바베큐립 리조또 - 8.0 (금요일 10%할인) 7.2\\xa0#PIZZA#감튀피자\\xa0 - 10.0\\xa0 (월요일 10%할인) 9.1치킨텐더피자\\xa0 - 10.0 (수요일 10%할인) 9.1마리게리따피자\\xa0 - 10.0 고르곤졸라피자\\xa0 - 10.0불고기피자\\xa0 - 10.0 (화요일 10%할인) 9.1후레쉬샐러드피자\\xa0 - 10.0페퍼로니피자 - 10.0 (목요일 10%할인) 9.1루꼴라피자 - 10.0 (금요일 10%할인) 9.1- 샐러드, 음료, 디저트 etc.- \\n']}"
      ]
     },
     "execution_count": 197,
     "metadata": {},
     "output_type": "execute_result"
    }
   ],
   "source": [
    "f.get_the_kitchen()"
   ]
  },
  {
   "cell_type": "code",
   "execution_count": 198,
   "metadata": {},
   "outputs": [
    {
     "data": {
      "text/plain": [
       "{'석식1': '<DIV><!--StartFragment-->\\r\\n<P class=0 style=\"mso-pagination: none; mso-padding-alt: 0.0pt 0.0pt 0.0pt 0.0pt\"><SPAN style=\"mso-fareast-font-family: 함초롬바탕\">비프스튜<SPAN lang=EN-US style=\"FONT-FAMILY: 함초롬바탕; LETTER-SPACING: 0pt; mso-font-width: 100%; mso-text-raise: 0pt\">(827kcal)</SPAN></P></SPAN>\\r\\n<P class=0 style=\"mso-pagination: none; mso-padding-alt: 0.0pt 0.0pt 0.0pt 0.0pt\"><SPAN lang=EN-US style=\"FONT-FAMILY: 함초롬바탕; LETTER-SPACING: 0pt; mso-font-width: 100%; mso-text-raise: 0.0pt\">beef Stew</SPAN></P></DIV>',\n",
       " '조식': '<div>조식</div>\\r\\n',\n",
       " '중식1': '<DIV>\\r\\n<P class=0 style=\"mso-pagination: none; mso-padding-alt: 0.0pt 0.0pt 0.0pt 0.0pt\"><SPAN style=\"mso-fareast-font-family: 함초롬바탕\">보쌈정식<SPAN lang=EN-US style=\"FONT-FAMILY: 함초롬바탕; LETTER-SPACING: 0pt; mso-font-width: 100%; mso-text-raise: 0pt\">(864Kcal)</SPAN></SPAN></P>\\r\\n<P class=0 style=\"mso-pagination: none; mso-padding-alt: 0.0pt 0.0pt 0.0pt 0.0pt\"><SPAN style=\"mso-fareast-font-family: 함초롬바탕\"><SPAN lang=EN-US style=\"FONT-FAMILY: 함초롬바탕; LETTER-SPACING: 0pt; mso-font-width: 100%; mso-text-raise: 0pt\"></SPAN></SPAN><SPAN lang=EN-US style=\"FONT-FAMILY: 함초롬바탕; LETTER-SPACING: 0pt; mso-font-width: 100%; mso-text-raise: 0.0pt\">Cooked pork and vegetables served with wrap sauce</SPAN></P></DIV>',\n",
       " '중식2': '<DIV><!--StartFragment-->\\r\\n<P class=0 style=\"mso-pagination: none; mso-padding-alt: 0.0pt 0.0pt 0.0pt 0.0pt\"><SPAN style=\"mso-fareast-font-family: 함초롬바탕\">들기름나물볶음밥<!--StartFragment--></P>\\r\\n<P class=0 style=\"TEXT-AUTOSPACE: ; mso-pagination: none; mso-padding-alt: 0pt 0pt 0pt 0pt\"><SPAN lang=EN-US style=\"FONT-FAMILY: 함초롬바탕; LETTER-SPACING: 0pt; mso-font-width: 100%; mso-text-raise: 0pt\">(831Kcal)</SPAN></P></SPAN>\\r\\n<P class=0 style=\"mso-pagination: none; mso-padding-alt: 0.0pt 0.0pt 0.0pt 0.0pt\"><SPAN lang=EN-US style=\"FONT-FAMILY: 함초롬바탕; LETTER-SPACING: 0pt; mso-font-width: 100%; mso-text-raise: 0.0pt\">Wild vegetable stir fried rice </SPAN></P></DIV>'}"
      ]
     },
     "execution_count": 198,
     "metadata": {},
     "output_type": "execute_result"
    }
   ],
   "source": [
    "f.faculty_food"
   ]
  },
  {
   "cell_type": "code",
   "execution_count": 199,
   "metadata": {
    "collapsed": true
   },
   "outputs": [],
   "source": [
    "from bs4 import BeautifulSoup\n",
    "import requests\n",
    "\n",
    "\n",
    "class Parser():\n",
    "    def __init__(self):\n",
    "        self.base_url = None\n",
    "\n",
    "    def refresh(self):\n",
    "        pass\n",
    "\n",
    "\n",
    "class FoodParser(Parser):\n",
    "    def __init__(self):\n",
    "        self.base_url = 'http://soongguri.com/menu/m_menujson.php'\n",
    "        self.faculty_food = None\n",
    "        self.pupil_food = None\n",
    "        self.the_kitchen = None\n",
    "        self.snack_corner = None\n",
    "        self.food_court = None\n",
    "\n",
    "    def refresh(self):\n",
    "        res = requests.get(self.base_url, {'fkey': '5'})\n",
    "        jsn = res.json()\n",
    "        self.pupil_food = jsn.get('학생식당')\n",
    "        self.the_kitchen = jsn.get('THE KITCHEN')\n",
    "        self.snack_corner = jsn.get('스넥코너')\n",
    "        self.food_court = jsn.get('푸드코트')\n",
    "        self.faculty_food = jsn.get('교직원식당')\n",
    "\n",
    "    def get_faculty_food(self):\n",
    "        ret_dict = {}\n",
    "        for section in self.faculty_food:\n",
    "            ret_dict.update({section: []})\n",
    "            soup = BeautifulSoup(self.faculty_food[section], 'html.parser')\n",
    "            ret_dict[section].append(soup.text)\n",
    "        return ret_dict\n",
    "\n",
    "    def get_pupil_food(self):\n",
    "        ret_dict = {}\n",
    "        for section in self.pupil_food:\n",
    "            ret_dict.update({section: []})\n",
    "            soup = BeautifulSoup(self.pupil_food[section], 'html.parser')\n",
    "            ret_dict[section].append(soup.text)\n",
    "        return ret_dict\n",
    "\n",
    "    def get_the_kitchen(self):\n",
    "        \"\"\"\n",
    "        TODO: 정규표현식 이용해서 메뉴 가격 깔끔하게 나누기\n",
    "        :return: dict\n",
    "        \"\"\"\n",
    "        ret_dict = {}\n",
    "        for section in self.the_kitchen:\n",
    "            ret_dict.update({section: []})\n",
    "            soup = BeautifulSoup(self.the_kitchen[section], 'html.parser')\n",
    "            ret_dict[section].append(soup.text)\n",
    "        return ret_dict\n",
    "\n",
    "    def get_snack_corner(self):\n",
    "        \"\"\"\n",
    "            TODO: 정규표현식 이용해서 메뉴 가격 깔끔하게 나누기\n",
    "            :return: dict\n",
    "        \"\"\"\n",
    "        ret_dict = {}\n",
    "        for section in self.snack_corner:\n",
    "            ret_dict.update({section: []})\n",
    "            soup = BeautifulSoup(self.snack_corner[section], 'html.parser')\n",
    "            ret_dict[section].append(soup.text)\n",
    "        return ret_dict\n",
    "\n",
    "    def get_food_court(self):\n",
    "        \"\"\"\n",
    "            TODO: 정규표현식 이용해서 메뉴 가격 깔끔하게 나누기\n",
    "            :return: dict\n",
    "        \"\"\"\n",
    "        ret_dict = {}\n",
    "        for section in self.food_court:\n",
    "            ret_dict.update({section: []})\n",
    "            soup = BeautifulSoup(self.food_court[section], 'html.parser')\n",
    "            ret_dict[section].append(soup.text)\n",
    "        return ret_dict\n"
   ]
  },
  {
   "cell_type": "code",
   "execution_count": 200,
   "metadata": {
    "collapsed": true
   },
   "outputs": [],
   "source": [
    "f = FoodParser()"
   ]
  },
  {
   "cell_type": "code",
   "execution_count": 201,
   "metadata": {
    "collapsed": true
   },
   "outputs": [],
   "source": [
    "f.refresh()"
   ]
  },
  {
   "cell_type": "code",
   "execution_count": 202,
   "metadata": {},
   "outputs": [
    {
     "data": {
      "text/plain": [
       "{'석식1': ['청양된장찌개Bean paste stew\\n'],\n",
       " '중식1': ['뚝배기 콩불Bean sprouts and pork\\n'],\n",
       " '중식2': ['불짬뽕밥Spicy seafood noodle soup with rice\\n'],\n",
       " '중식3': ['쉬림프나시고랭Shrimp Nasi Goreng\\n']}"
      ]
     },
     "execution_count": 202,
     "metadata": {},
     "output_type": "execute_result"
    }
   ],
   "source": [
    "f.get_pupil_food()"
   ]
  },
  {
   "cell_type": "code",
   "execution_count": 203,
   "metadata": {
    "collapsed": true
   },
   "outputs": [],
   "source": [
    "foods = f.get_pupil_food()"
   ]
  },
  {
   "cell_type": "code",
   "execution_count": 204,
   "metadata": {},
   "outputs": [
    {
     "data": {
      "text/plain": [
       "{'석식1': ['청양된장찌개Bean paste stew\\n'],\n",
       " '중식1': ['뚝배기 콩불Bean sprouts and pork\\n'],\n",
       " '중식2': ['불짬뽕밥Spicy seafood noodle soup with rice\\n'],\n",
       " '중식3': ['쉬림프나시고랭Shrimp Nasi Goreng\\n']}"
      ]
     },
     "execution_count": 204,
     "metadata": {},
     "output_type": "execute_result"
    }
   ],
   "source": [
    "foods"
   ]
  },
  {
   "cell_type": "code",
   "execution_count": 206,
   "metadata": {},
   "outputs": [
    {
     "name": "stdout",
     "output_type": "stream",
     "text": [
      "뚝배기 콩불Bean sprouts and pork\n",
      "\n",
      "불짬뽕밥Spicy seafood noodle soup with rice\n",
      "\n",
      "청양된장찌개Bean paste stew\n",
      "\n",
      "쉬림프나시고랭Shrimp Nasi Goreng\n",
      "\n"
     ]
    }
   ],
   "source": [
    "for section in foods:\n",
    "    print (foods[section][0])"
   ]
  },
  {
   "cell_type": "code",
   "execution_count": 207,
   "metadata": {
    "collapsed": true
   },
   "outputs": [],
   "source": [
    "s = '뚝배기 콩불Bean sprouts and pork'"
   ]
  },
  {
   "cell_type": "code",
   "execution_count": 208,
   "metadata": {
    "collapsed": true
   },
   "outputs": [],
   "source": [
    "import re"
   ]
  },
  {
   "cell_type": "code",
   "execution_count": 217,
   "metadata": {
    "collapsed": true
   },
   "outputs": [],
   "source": [
    "hangul = re.compile('[^가-힣 ]+')"
   ]
  },
  {
   "cell_type": "code",
   "execution_count": 218,
   "metadata": {},
   "outputs": [
    {
     "data": {
      "text/plain": [
       "<_sre.SRE_Match object; span=(6, 10), match='Bean'>"
      ]
     },
     "execution_count": 218,
     "metadata": {},
     "output_type": "execute_result"
    }
   ],
   "source": [
    "re.search(hangul, s)"
   ]
  },
  {
   "cell_type": "code",
   "execution_count": 219,
   "metadata": {},
   "outputs": [
    {
     "data": {
      "text/plain": [
       "['Bean', 'sprouts', 'and', 'pork']"
      ]
     },
     "execution_count": 219,
     "metadata": {},
     "output_type": "execute_result"
    }
   ],
   "source": [
    "re.findall(hangul, s)"
   ]
  },
  {
   "cell_type": "code",
   "execution_count": 221,
   "metadata": {},
   "outputs": [],
   "source": [
    "res = hangul.sub('', s)"
   ]
  },
  {
   "cell_type": "raw",
   "metadata": {},
   "source": [
    "type(res)"
   ]
  },
  {
   "cell_type": "code",
   "execution_count": 222,
   "metadata": {},
   "outputs": [
    {
     "data": {
      "text/plain": [
       "'뚝배기 콩불   '"
      ]
     },
     "execution_count": 222,
     "metadata": {},
     "output_type": "execute_result"
    }
   ],
   "source": [
    "res"
   ]
  },
  {
   "cell_type": "code",
   "execution_count": 223,
   "metadata": {},
   "outputs": [
    {
     "data": {
      "text/plain": [
       "'뚝배기 콩불'"
      ]
     },
     "execution_count": 223,
     "metadata": {},
     "output_type": "execute_result"
    }
   ],
   "source": [
    "res.rstrip()"
   ]
  },
  {
   "cell_type": "code",
   "execution_count": 224,
   "metadata": {
    "scrolled": true
   },
   "outputs": [
    {
     "ename": "NameError",
     "evalue": "name 'Menu' is not defined",
     "output_type": "error",
     "traceback": [
      "\u001b[0;31m---------------------------------------------------------------------------\u001b[0m",
      "\u001b[0;31mNameError\u001b[0m                                 Traceback (most recent call last)",
      "\u001b[0;32m<ipython-input-224-ce05037988d8>\u001b[0m in \u001b[0;36m<module>\u001b[0;34m()\u001b[0m\n\u001b[1;32m      1\u001b[0m \u001b[0;34m\u001b[0m\u001b[0m\n\u001b[0;32m----> 2\u001b[0;31m \u001b[0;32mclass\u001b[0m \u001b[0mPupilMenu\u001b[0m\u001b[0;34m(\u001b[0m\u001b[0mMenu\u001b[0m\u001b[0;34m)\u001b[0m\u001b[0;34m:\u001b[0m\u001b[0;34m\u001b[0m\u001b[0m\n\u001b[0m\u001b[1;32m      3\u001b[0m     \u001b[0;32mdef\u001b[0m \u001b[0m__init__\u001b[0m\u001b[0;34m(\u001b[0m\u001b[0mself\u001b[0m\u001b[0;34m)\u001b[0m\u001b[0;34m:\u001b[0m\u001b[0;34m\u001b[0m\u001b[0m\n\u001b[1;32m      4\u001b[0m         \u001b[0msuper\u001b[0m\u001b[0;34m(\u001b[0m\u001b[0;34m)\u001b[0m\u001b[0;34m.\u001b[0m\u001b[0m__init__\u001b[0m\u001b[0;34m(\u001b[0m\u001b[0;34m)\u001b[0m\u001b[0;34m\u001b[0m\u001b[0m\n\u001b[1;32m      5\u001b[0m \u001b[0;34m\u001b[0m\u001b[0m\n",
      "\u001b[0;31mNameError\u001b[0m: name 'Menu' is not defined"
     ]
    }
   ],
   "source": [
    "\n",
    "class PupilMenu(Menu):\n",
    "    def __init__(self):\n",
    "        super().__init__()\n",
    "\n",
    "    def set_pupil_foods(self):\n",
    "        food_parser = FoodParser()\n",
    "        food_parser.refresh()\n",
    "        self.foods = food_parser.get_pupil_food()\n",
    "\n",
    "    def get_string(self):\n",
    "        ret_string = ''\n",
    "        hangul = re.compile('[^가-힣 ]+')\n",
    "        for section in self.foods:\n",
    "            menu = self.foods[section]\n",
    "            english_removed = hangul.sub('', menu)\n",
    "            ret_string += english_removed.rstrip() + '\\n'\n",
    "        return ret_string\n"
   ]
  },
  {
   "cell_type": "code",
   "execution_count": 242,
   "metadata": {
    "collapsed": true
   },
   "outputs": [],
   "source": [
    "import re\n",
    "\n",
    "class Menu:\n",
    "    def __init__(self):\n",
    "        self.foods = None\n",
    "\n",
    "    def get_foods(self):\n",
    "        return self.foods\n",
    "\n",
    "    def get_string(self):\n",
    "        # 메뉴마다 깔끔하게 딕셔너리를 string으로 바꾼다\n",
    "        pass\n",
    "\n",
    "\n",
    "class PupilMenu(Menu):\n",
    "    def __init__(self):\n",
    "        super().__init__()\n",
    "\n",
    "    def set_pupil_foods(self):\n",
    "        food_parser = FoodParser()\n",
    "        food_parser.refresh()\n",
    "        self.foods = food_parser.get_pupil_food()\n",
    "\n",
    "    def get_string(self):\n",
    "        ret_string = ''\n",
    "        hangul = re.compile('[^가-힣 ]+')\n",
    "        for section in self.foods:\n",
    "            menu = self.foods[section][0]\n",
    "            english_removed = hangul.sub('', menu)\n",
    "            ret_string += english_removed.rstrip() + '\\n'\n",
    "        return ret_string\n"
   ]
  },
  {
   "cell_type": "code",
   "execution_count": 243,
   "metadata": {
    "collapsed": true
   },
   "outputs": [],
   "source": [
    "p = PupilMenu()"
   ]
  },
  {
   "cell_type": "code",
   "execution_count": 244,
   "metadata": {},
   "outputs": [],
   "source": [
    "p.set_pupil_foods()"
   ]
  },
  {
   "cell_type": "code",
   "execution_count": 246,
   "metadata": {},
   "outputs": [
    {
     "name": "stdout",
     "output_type": "stream",
     "text": [
      "뚝배기 콩불\n",
      "불짬뽕밥\n",
      "청양된장찌개\n",
      "쉬림프나시고랭\n",
      "\n"
     ]
    }
   ],
   "source": [
    "print(p.get_string())"
   ]
  },
  {
   "cell_type": "code",
   "execution_count": 257,
   "metadata": {
    "collapsed": true
   },
   "outputs": [],
   "source": [
    "\n",
    "\n",
    "class PupilMenu(Menu):\n",
    "    def __init__(self):\n",
    "        super().__init__()\n",
    "\n",
    "    def set_pupil_foods(self):\n",
    "        food_parser = FoodParser()\n",
    "        food_parser.refresh()\n",
    "        self.foods = food_parser.get_pupil_food()\n",
    "\n",
    "    def get_string(self):\n",
    "        ret_string = ''\n",
    "        hangul = re.compile('[^가-힣 ]+')\n",
    "        for section in self.foods:\n",
    "            menu = self.foods[section][0]\n",
    "            english_removed = hangul.sub('', menu)\n",
    "            ret_string += section + ':' + english_removed.rstrip() + '\\n'\n",
    "        return ret_string\n"
   ]
  },
  {
   "cell_type": "code",
   "execution_count": 258,
   "metadata": {
    "collapsed": true
   },
   "outputs": [],
   "source": [
    "p = PupilMenu()"
   ]
  },
  {
   "cell_type": "code",
   "execution_count": 259,
   "metadata": {
    "collapsed": true
   },
   "outputs": [],
   "source": [
    "p.set_pupil_foods()"
   ]
  },
  {
   "cell_type": "code",
   "execution_count": 250,
   "metadata": {},
   "outputs": [
    {
     "data": {
      "text/plain": [
       "'차돌박이순두부찌개\\n쇠고기야채비빔밥\\n조식\\n크림나쵸수제함박\\n'"
      ]
     },
     "execution_count": 250,
     "metadata": {},
     "output_type": "execute_result"
    }
   ],
   "source": [
    "p."
   ]
  },
  {
   "cell_type": "code",
   "execution_count": 251,
   "metadata": {},
   "outputs": [
    {
     "data": {
      "text/plain": [
       "{'석식1': ['크림나쵸수제함박  Pork saute & Soybean paste soup \\xa0 \\n'],\n",
       " '조식': ['조식\\n'],\n",
       " '중식1': ['차돌박이순두부찌개Soft bean-curd soup with beef\\n'],\n",
       " '중식2': ['쇠고기야채비빔밥Steamed rice mixed with beef and vegetable\\n']}"
      ]
     },
     "execution_count": 251,
     "metadata": {},
     "output_type": "execute_result"
    }
   ],
   "source": [
    "f.get_foods()"
   ]
  },
  {
   "cell_type": "code",
   "execution_count": 252,
   "metadata": {
    "collapsed": true
   },
   "outputs": [],
   "source": [
    "n = f.get_foods()"
   ]
  },
  {
   "cell_type": "code",
   "execution_count": 254,
   "metadata": {},
   "outputs": [
    {
     "data": {
      "text/plain": [
       "['조식\\n']"
      ]
     },
     "execution_count": 254,
     "metadata": {},
     "output_type": "execute_result"
    }
   ],
   "source": [
    "n.pop('조식')"
   ]
  },
  {
   "cell_type": "code",
   "execution_count": 255,
   "metadata": {},
   "outputs": [
    {
     "data": {
      "text/plain": [
       "{'석식1': ['크림나쵸수제함박  Pork saute & Soybean paste soup \\xa0 \\n'],\n",
       " '중식1': ['차돌박이순두부찌개Soft bean-curd soup with beef\\n'],\n",
       " '중식2': ['쇠고기야채비빔밥Steamed rice mixed with beef and vegetable\\n']}"
      ]
     },
     "execution_count": 255,
     "metadata": {},
     "output_type": "execute_result"
    }
   ],
   "source": [
    "n"
   ]
  },
  {
   "cell_type": "code",
   "execution_count": 256,
   "metadata": {
    "collapsed": true
   },
   "outputs": [],
   "source": [
    "import collections\n"
   ]
  },
  {
   "cell_type": "code",
   "execution_count": 260,
   "metadata": {
    "collapsed": true
   },
   "outputs": [],
   "source": [
    "n = p.get_foods()"
   ]
  },
  {
   "cell_type": "code",
   "execution_count": 261,
   "metadata": {},
   "outputs": [
    {
     "data": {
      "text/plain": [
       "{'석식1': ['청양된장찌개Bean paste stew\\n'],\n",
       " '중식1': ['뚝배기 콩불Bean sprouts and pork\\n'],\n",
       " '중식2': ['불짬뽕밥Spicy seafood noodle soup with rice\\n'],\n",
       " '중식3': ['쉬림프나시고랭Shrimp Nasi Goreng\\n']}"
      ]
     },
     "execution_count": 261,
     "metadata": {},
     "output_type": "execute_result"
    }
   ],
   "source": [
    "n"
   ]
  },
  {
   "cell_type": "code",
   "execution_count": 262,
   "metadata": {},
   "outputs": [
    {
     "name": "stdout",
     "output_type": "stream",
     "text": [
      "중식1\n",
      "중식2\n",
      "석식1\n",
      "중식3\n"
     ]
    }
   ],
   "source": [
    "for i in n:\n",
    "    print(i)"
   ]
  },
  {
   "cell_type": "code",
   "execution_count": 264,
   "metadata": {},
   "outputs": [
    {
     "data": {
      "text/plain": [
       "OrderedDict([('석식1', ['청양된장찌개Bean paste stew\\n']),\n",
       "             ('중식1', ['뚝배기 콩불Bean sprouts and pork\\n']),\n",
       "             ('중식2', ['불짬뽕밥Spicy seafood noodle soup with rice\\n']),\n",
       "             ('중식3', ['쉬림프나시고랭Shrimp Nasi Goreng\\n'])])"
      ]
     },
     "execution_count": 264,
     "metadata": {},
     "output_type": "execute_result"
    }
   ],
   "source": [
    "collections.OrderedDict(sorted(n.items()))"
   ]
  },
  {
   "cell_type": "code",
   "execution_count": 265,
   "metadata": {
    "collapsed": true
   },
   "outputs": [],
   "source": [
    "od = collections.OrderedDict(sorted(n.items()))"
   ]
  },
  {
   "cell_type": "code",
   "execution_count": 266,
   "metadata": {},
   "outputs": [
    {
     "name": "stdout",
     "output_type": "stream",
     "text": [
      "석식1\n",
      "중식1\n",
      "중식2\n",
      "중식3\n"
     ]
    }
   ],
   "source": [
    "for i in od:\n",
    "    print(i)"
   ]
  },
  {
   "cell_type": "code",
   "execution_count": 278,
   "metadata": {
    "collapsed": true
   },
   "outputs": [],
   "source": [
    "import requests\n",
    "import urllib\n",
    "\n",
    "class Singleton(type):\n",
    "    instance = None\n",
    "\n",
    "    def __call__(cls, *args, **kwargs):\n",
    "        if not cls.instance:\n",
    "            cls.instance = super(Singleton, cls).__call__(*args, **kwargs)\n",
    "        return cls.instance\n",
    "\n",
    "class SubwayParser(metaclass=Singleton):\n",
    "    \"\"\"\n",
    "    ex: http://bus.go.kr/xmlRequest/getStationByUid.jsp?strBusNumber=13157'\n",
    "    \"\"\"\n",
    "    station_name_url ='http://m.bus.go.kr/mBus/subway/getStatnByNm.bms'\n",
    "    arrival_info_url = 'http://m.bus.go.kr/mBus/subway/getArvlByInfo.bms'\n",
    "\n",
    "\n",
    "    def get_station_stat(self, station_name):\n",
    "        station_name = urllib.parse.quote(station_name.replace('역', ''))\n",
    "#숭실대입구역 -> 숭실대입구 로 변환해야 검색됨\n",
    "#문제점 역삼역 같은경우 역삼역 -> 삼 으로 변환됨...!\n",
    "        res = requests.get(subway_api.station_name_url + '?' + 'statnNm='+station_name.replace('%','%25'))\n",
    "        jsn = res.json()\n",
    "\n",
    "        if res.json().get('resultList') is None:\n",
    "            return '그런역 없습니다 다른이름으로 검색하세요'\n",
    "        subway_id = jsn.get('resultList')[0].get('subwayId')\n",
    "        statn_id = jsn.get('resultList')[0].get('statnId')\n",
    "\n",
    "        res = requests.get(subway_api.arrival_info_url + '?' +\n",
    "                'subwayId='+subway_id+'&statnId='+statn_id)\n",
    "        jsn = res.json()\n",
    "        \"\"\"\n",
    "        result of print(jsn) is  \n",
    "        {'resultList': [{'bTrainKind': '0', 'statnId': '1007000738', 'subwayList': '1007',\n",
    "        'statnSn': '30', 'curstatnsn': '0', 'cStatnNm': '남성방면', 'arvlMsg': ' ', 'statnList':\n",
    "        '1007000738', 'bStatnId': '30', 'bArvlTm': '60', 'updnLine': '상행', 'trnsitCo': '1',\n",
    "        'subwayHeading': '오른쪽', 'statnNm': '숭실대입구(살피재)', 'trainLineNm': '도봉산행 -\n",
    "        남성방면', 'gpsX': '126.95364613852064', 'arvlCd': '2', 'subwayId': '1007', 'trainLine':\n",
    "        '0', 'acdntCn': ' ', 'bStatnNm': '도봉산행', 'delayTime': '0', 'arvlMsg2':\n",
    "        '숭실대입구(살피재) 출발', 'bArvlDt': '60', 'bTrainNo': '7118', 'bStatnSn': '30', 'trainCd':\n",
    "        '2', 'gpsY': '37.49636243455655', 'arvlMsg3': '숭실대입구(살피재)'}, {'bTrainKind': '0',\n",
    "        'statnId': '1007000738', 'subwayList': '1007', 'statnSn': '30', 'curstatnsn': '2',\n",
    "        'cStatnNm': '남성방면', 'arvlMsg': ' ', 'statnList': '1007000738', 'bStatnId': '32',\n",
    "        'bArvlTm': '240', 'updnLine': '상행', 'trnsitCo': '1', 'subwayHeading': '오른쪽', 'statnNm':\n",
    "            '숭실대입구(살피재)', 'trainLineNm': '장암행 - 남성방면', 'gpsX': '126.95364613852064',\n",
    "            'arvlCd': '99', 'subwayId': '1007', 'trainLine': '0', 'acdntCn': ' ', 'bStatnNm':\n",
    "            '장암행', 'delayTime': '0', 'arvlMsg2': '4분 후 (장승배기)', 'bArvlDt': '240',\n",
    "            'bTrainNo': '7120', 'bStatnSn': '32', 'trainCd': '1', 'gpsY': '37.49636243455655',\n",
    "            'arvlMsg3': '장승배기'}, {'bTrainKind': '0', 'statnId': '1007000738', 'subwayList':\n",
    "            '1007', 'statnSn': '30', 'curstatnsn': '1', 'cStatnNm': '상도방면', 'arvlMsg': ' ',\n",
    "            'statnList': '1007000738', 'bStatnId': '29', 'bArvlTm': '120', 'updnLine': '하행',\n",
    "            'trnsitCo': '1', 'subwayHeading': '왼쪽', 'statnNm': '숭실대입구(살피재)',\n",
    "            'trainLineNm': '온수행 - 상도방면', 'gpsX': '126.95364613852064', 'arvlCd': '3',\n",
    "            'subwayId': '1007', 'trainLine': '1', 'acdntCn': ' ', 'bStatnNm': '온수행', 'delayTime':\n",
    "            '0', 'arvlMsg2': '전역 출발', 'bArvlDt': '120', 'bTrainNo': '7123', 'bStatnSn': '29',\n",
    "            'trainCd': '2', 'gpsY': '37.49636243455655', 'arvlMsg3': '남성'}, {'bTrainKind': '0',\n",
    "            'statnId': '1007000738', 'subwayList': '1007', 'statnSn': '30', 'curstatnsn': '2',\n",
    "            'cStatnNm': '상도방면', 'arvlMsg': ' ', 'statnList': '1007000738', 'bStatnId': '28',\n",
    "            'bArvlTm': '300', 'updnLine': '하행', 'trnsitCo': '1', 'subwayHeading': '왼쪽',\n",
    "            'statnNm': '숭실대입구(살피재)', 'trainLineNm': '부평구청행 - 상도방면', 'gpsX':\n",
    "            '126.95364613852064', 'arvlCd': '99', 'subwayId': '1007', 'trainLine': '1', 'acdntCn': '\n",
    "            ', 'bStatnNm': '부평구청행', 'delayTime': '0', 'arvlMsg2': '5분 후 (총신대입구(이수))',\n",
    "            'bArvlDt': '300', 'bTrainNo': '7125', 'bStatnSn': '28', 'trainCd': '1', 'gpsY':\n",
    "            '37.49636243455655', 'arvlMsg3': '총신대입구(이수)'}], 'error': {'errorCode': '0000',\n",
    "            'errorMessage': '성공'}, 'resultList2': [{'x': '195901.37022', 'statnId': '1007000738',\n",
    "            'zipNo': '156035', 'subwayId': '1007', 'subwayList': '1007:1007000738,', 'telNo':\n",
    "            '02-6311-7381', 'statnTid': '1007000737', 'adres': '서울특별시 동작구 상도5동178-1',\n",
    "            'fxNum': ' ', 'statnFnm': '상도', 'statnTnm': '남성', 'statnFid': '1007000739',\n",
    "            'statnNmEng': 'Soongsil Univ.', 'operPblinstt': '도시철도', 'y': '444107.01879',\n",
    "            'subwayNm': '7호선', 'trnsitCo': '1', 'statnNm': '숭실대입구'}]}\n",
    "        \"\"\"\n",
    "\n",
    "        ret = jsn.get('resultList2')[0].get('statnNm') + '\\n'\n",
    "        \n",
    "        if jsn.get('resultList') is None:\n",
    "            return '곧 수정하겠습니다 아직 이부분은 왜안되는지 이유를 모르겠네요'\n",
    "        for j in range(len(jsn.get('resultList'))):\n",
    "            ret += '-----------------------\\n|'\n",
    "            ret += jsn.get('resultList')[j].get('trainLineNm') + '\\n| '\n",
    "            ret += jsn.get('resultList')[j].get('arvlMsg2') + '\\n|'\n",
    "            #for k in jsn.get('resultList')[j].keys():\n",
    "            #\tprint(k, jsn.get('resultList')[j].get(k))\n",
    "            #print('-------------------')\n",
    "\n",
    "        return ret + '-----------------------'\n"
   ]
  },
  {
   "cell_type": "code",
   "execution_count": 279,
   "metadata": {
    "collapsed": true
   },
   "outputs": [],
   "source": [
    "subway_api = SubwayParser()"
   ]
  },
  {
   "cell_type": "code",
   "execution_count": 281,
   "metadata": {},
   "outputs": [
    {
     "name": "stdout",
     "output_type": "stream",
     "text": [
      "숭실대입구\n",
      "-----------------------\n",
      "|장암행 - 남성방면\n",
      "| 전역 진입\n",
      "|-----------------------\n",
      "|도봉산행 - 남성방면\n",
      "| 8분 후 (보라매)\n",
      "|-----------------------\n",
      "|온수행 - 상도방면\n",
      "| 4분 후 (총신대입구(이수))\n",
      "|-----------------------\n",
      "|부평구청행 - 상도방면\n",
      "| 9분 후 (고속터미널)\n",
      "|-----------------------\n"
     ]
    }
   ],
   "source": [
    "print(subway_api.get_station_stat('숭실대입구'))"
   ]
  },
  {
   "cell_type": "code",
   "execution_count": 282,
   "metadata": {
    "collapsed": true
   },
   "outputs": [],
   "source": [
    "from bs4 import BeautifulSoup\n",
    "import urllib\n",
    "import requests\n",
    "\n",
    "class bus_api:\n",
    "    \"\"\"\n",
    "    ex: http://bus.go.kr/xmlRequest/getStationByUid.jsp?strBusNumber=13157'\n",
    "    \"\"\"\n",
    "\n",
    "    url = 'http://bus.go.kr/xmlRequest/getStationByUid.jsp'\n",
    "\n",
    "    def get_station_stat(station_number):\n",
    "        res = requests.get(bus_api.url, dict(strBusNumber=station_number))\n",
    "        soup = BeautifulSoup(res.text, 'html.parser')\n",
    "        ret = ''\n",
    "\n",
    "        for bus_name, left_time_1, left_time_2 in zip(soup.select('rtnm'),\\\n",
    "                soup.select('arrmsg1'), soup.select('arrmsg2')):\n",
    "            ret += \"-------------------\\n| Bus:{0:<8}\\n|{1:<10}\\n|{2:<13}\\n\".format(\\\n",
    "                    bus_name.string, left_time_1.string, left_time_2.string)\n",
    "        return ret + '-------------------'\n",
    "\n"
   ]
  },
  {
   "cell_type": "code",
   "execution_count": 285,
   "metadata": {},
   "outputs": [
    {
     "name": "stdout",
     "output_type": "stream",
     "text": [
      "-------------------\n",
      "| Bus:501     \n",
      "|곧 도착      \n",
      "|12분37초후[6번째 전]\n",
      "-------------------\n",
      "| Bus:506     \n",
      "|곧 도착      \n",
      "|12분29초후[6번째 전]\n",
      "-------------------\n",
      "| Bus:641     \n",
      "|곧 도착      \n",
      "|5분38초후[3번째 전]\n",
      "-------------------\n",
      "| Bus:650     \n",
      "|2분53초후[1번째 전]\n",
      "|16분33초후[10번째 전]\n",
      "-------------------\n",
      "| Bus:750A    \n",
      "|4분25초후[2번째 전]\n",
      "|10분17초후[5번째 전]\n",
      "-------------------\n",
      "| Bus:750B    \n",
      "|26분57초후[12번째 전]\n",
      "|29분50초후[13번째 전]\n",
      "-------------------\n",
      "| Bus:5511    \n",
      "|곧 도착      \n",
      "|6분20초후[4번째 전]\n",
      "-------------------\n",
      "| Bus:5517    \n",
      "|2분30초후[1번째 전]\n",
      "|7분44초후[4번째 전]\n",
      "-------------------\n"
     ]
    }
   ],
   "source": [
    "print(bus_api.get_station_stat(20165))"
   ]
  },
  {
   "cell_type": "code",
   "execution_count": 286,
   "metadata": {
    "collapsed": true
   },
   "outputs": [],
   "source": [
    "\n",
    "class BusParser(metaclass=Singleton):\n",
    "    \"\"\"\n",
    "    ex: http://bus.go.kr/xmlRequest/getStationByUid.jsp?strBusNumber=13157'\n",
    "    \"\"\"\n",
    "\n",
    "    url = 'http://bus.go.kr/xmlRequest/getStationByUid.jsp'\n",
    "\n",
    "    def get_station_stat(self, station_number):\n",
    "        res = requests.get(bus_api.url, dict(strBusNumber=station_number))\n",
    "        soup = BeautifulSoup(res.text, 'html.parser')\n",
    "        ret = ''\n",
    "\n",
    "        for bus_name, left_time_1, left_time_2 in zip(soup.select('rtnm'),\\\n",
    "                soup.select('arrmsg1'), soup.select('arrmsg2')):\n",
    "            ret += \"-------------------\\n| Bus:{0:<8}\\n|{1:<10}\\n|{2:<13}\\n\".format(\\\n",
    "                    bus_name.string, left_time_1.string, left_time_2.string)\n",
    "        return ret + '-------------------'\n",
    "\n",
    "\n",
    "bus_api = BusParser()"
   ]
  },
  {
   "cell_type": "code",
   "execution_count": 289,
   "metadata": {},
   "outputs": [],
   "source": [
    "from bs4 import BeautifulSoup\n",
    "import requests\n",
    "import urllib\n",
    "\n",
    "class Parser:\n",
    "    def __init__(self):\n",
    "        self.base_url = None\n",
    "\n",
    "    def refresh(self):\n",
    "        pass\n",
    "\n",
    "\n",
    "\n",
    "class Singleton(type):\n",
    "    instance = None\n",
    "\n",
    "    def __call__(cls, *args, **kwargs):\n",
    "        if not cls.instance:\n",
    "            cls.instance = super(Singleton, cls).__call__(*args, **kwargs)\n",
    "        return cls.instance\n",
    "\n",
    "\n",
    "class FoodParser(Parser):\n",
    "    def __init__(self):\n",
    "        self.base_url = 'http://soongguri.com/menu/m_menujson.php'\n",
    "        self.faculty_food = None\n",
    "        self.pupil_food = None\n",
    "        self.the_kitchen = None\n",
    "        self.snack_corner = None\n",
    "        self.food_court = None\n",
    "\n",
    "    def refresh(self):\n",
    "        \"\"\"\n",
    "        서버에 request를 보내서 식당 정보들을 갱신한다.\n",
    "        인자로 fkey를 받는데 1은 월요일, 5는 금요일 이런식이다.\n",
    "        :return: None\n",
    "        \"\"\"\n",
    "        res = requests.get(self.base_url)\n",
    "        jsn = res.json()\n",
    "        self.pupil_food = jsn.get('학생식당')\n",
    "        self.the_kitchen = jsn.get('THE KITCHEN')\n",
    "        self.snack_corner = jsn.get('스넥코너')\n",
    "        self.food_court = jsn.get('푸드코트')\n",
    "        self.faculty_food = jsn.get('교직원식당')\n",
    "\n",
    "    def get_faculty_food(self):\n",
    "        ret_dict = {}\n",
    "        for section in self.faculty_food:\n",
    "            ret_dict.update({section: []})\n",
    "            soup = BeautifulSoup(self.faculty_food[section], 'html.parser')\n",
    "            ret_dict[section].append(soup.text)\n",
    "\n",
    "        ret_dict.pop('조식') # 조식은 항상 조식 : 조식 이런 의미없는 데이터만 있음\n",
    "        #교식이 점심부터 시작하는것 같다.\n",
    "\n",
    "        return ret_dict\n",
    "\n",
    "    def get_pupil_food(self):\n",
    "        ret_dict = {}\n",
    "        for section in self.pupil_food:\n",
    "            ret_dict.update({section: []})\n",
    "            soup = BeautifulSoup(self.pupil_food[section], 'html.parser')\n",
    "            ret_dict[section].append(soup.text)\n",
    "        return ret_dict\n",
    "\n",
    "    def get_the_kitchen(self):\n",
    "        \"\"\"\n",
    "        TODO: 정규표현식 이용해서 메뉴 가격 깔끔하게 나누기\n",
    "        :return: dict\n",
    "        \"\"\"\n",
    "        ret_dict = {}\n",
    "        for section in self.the_kitchen:\n",
    "            ret_dict.update({section: []})\n",
    "            soup = BeautifulSoup(self.the_kitchen[section], 'html.parser')\n",
    "            ret_dict[section].append(soup.text)\n",
    "        return ret_dict\n",
    "\n",
    "    def get_snack_corner(self):\n",
    "        \"\"\"\n",
    "            TODO: 정규표현식 이용해서 메뉴 가격 깔끔하게 나누기\n",
    "            :return: dict\n",
    "        \"\"\"\n",
    "        ret_dict = {}\n",
    "        for section in self.snack_corner:\n",
    "            ret_dict.update({section: []})\n",
    "            soup = BeautifulSoup(self.snack_corner[section], 'html.parser')\n",
    "            ret_dict[section].append(soup.text)\n",
    "        return ret_dict\n",
    "\n",
    "    def get_food_court(self):\n",
    "        \"\"\"\n",
    "            TODO: 정규표현식 이용해서 메뉴 가격 깔끔하게 나누기\n",
    "            :return: dict\n",
    "        \"\"\"\n",
    "        ret_dict = {}\n",
    "        for section in self.food_court:\n",
    "            ret_dict.update({section: []})\n",
    "            soup = BeautifulSoup(self.food_court[section], 'html.parser')\n",
    "            ret_dict[section].append(soup.text)\n",
    "        return ret_dict\n",
    "\n",
    "\n",
    "class SubwayParser(metaclass=Singleton):\n",
    "    \"\"\"\n",
    "\n",
    "    \"\"\"\n",
    "    station_name_url = 'http://m.bus.go.kr/mBus/subway/getStatnByNm.bms'\n",
    "    arrival_info_url = 'http://m.bus.go.kr/mBus/subway/getArvlByInfo.bms'\n",
    "\n",
    "    def get_station_stat(self, station_name):\n",
    "        station_name = urllib.parse.quote(station_name.replace('역', ''))\n",
    "        # 숭실대입구역 -> 숭실대입구 로 변환해야 검색됨\n",
    "        # 문제점 역삼역 같은경우 역삼역 -> 삼 으로 변환됨...!\n",
    "        res = requests.get(subway_api.station_name_url + '?' + 'statnNm=' + station_name.replace('%', '%25'))\n",
    "        jsn = res.json()\n",
    "\n",
    "        if res.json().get('resultList') is None:\n",
    "            return '그런역 없습니다 다른이름으로 검색하세요'\n",
    "        subway_id = jsn.get('resultList')[0].get('subwayId')\n",
    "        statn_id = jsn.get('resultList')[0].get('statnId')\n",
    "\n",
    "        res = requests.get(subway_api.arrival_info_url + '?' +\n",
    "                           'subwayId=' + subway_id + '&statnId=' + statn_id)\n",
    "        jsn = res.json()\n",
    "        \"\"\"\n",
    "        result of print(jsn) is\n",
    "        {'resultList': [{'bTrainKind': '0', 'statnId': '1007000738', 'subwayList': '1007',\n",
    "        'statnSn': '30', 'curstatnsn': '0', 'cStatnNm': '남성방면', 'arvlMsg': ' ', 'statnList':\n",
    "        '1007000738', 'bStatnId': '30', 'bArvlTm': '60', 'updnLine': '상행', 'trnsitCo': '1',\n",
    "        'subwayHeading': '오른쪽', 'statnNm': '숭실대입구(살피재)', 'trainLineNm': '도봉산행 -\n",
    "        남성방면', 'gpsX': '126.95364613852064', 'arvlCd': '2', 'subwayId': '1007', 'trainLine':\n",
    "        '0', 'acdntCn': ' ', 'bStatnNm': '도봉산행', 'delayTime': '0', 'arvlMsg2':\n",
    "        '숭실대입구(살피재) 출발', 'bArvlDt': '60', 'bTrainNo': '7118', 'bStatnSn': '30', 'trainCd':\n",
    "        '2', 'gpsY': '37.49636243455655', 'arvlMsg3': '숭실대입구(살피재)'}, {'bTrainKind': '0',\n",
    "        'statnId': '1007000738', 'subwayList': '1007', 'statnSn': '30', 'curstatnsn': '2',\n",
    "        'cStatnNm': '남성방면', 'arvlMsg': ' ', 'statnList': '1007000738', 'bStatnId': '32',\n",
    "        'bArvlTm': '240', 'updnLine': '상행', 'trnsitCo': '1', 'subwayHeading': '오른쪽', 'statnNm':\n",
    "            '숭실대입구(살피재)', 'trainLineNm': '장암행 - 남성방면', 'gpsX': '126.95364613852064',\n",
    "            'arvlCd': '99', 'subwayId': '1007', 'trainLine': '0', 'acdntCn': ' ', 'bStatnNm':\n",
    "            '장암행', 'delayTime': '0', 'arvlMsg2': '4분 후 (장승배기)', 'bArvlDt': '240',\n",
    "            'bTrainNo': '7120', 'bStatnSn': '32', 'trainCd': '1', 'gpsY': '37.49636243455655',\n",
    "            'arvlMsg3': '장승배기'}, {'bTrainKind': '0', 'statnId': '1007000738', 'subwayList':\n",
    "            '1007', 'statnSn': '30', 'curstatnsn': '1', 'cStatnNm': '상도방면', 'arvlMsg': ' ',\n",
    "            'statnList': '1007000738', 'bStatnId': '29', 'bArvlTm': '120', 'updnLine': '하행',\n",
    "            'trnsitCo': '1', 'subwayHeading': '왼쪽', 'statnNm': '숭실대입구(살피재)',\n",
    "            'trainLineNm': '온수행 - 상도방면', 'gpsX': '126.95364613852064', 'arvlCd': '3',\n",
    "            'subwayId': '1007', 'trainLine': '1', 'acdntCn': ' ', 'bStatnNm': '온수행', 'delayTime':\n",
    "            '0', 'arvlMsg2': '전역 출발', 'bArvlDt': '120', 'bTrainNo': '7123', 'bStatnSn': '29',\n",
    "            'trainCd': '2', 'gpsY': '37.49636243455655', 'arvlMsg3': '남성'}, {'bTrainKind': '0',\n",
    "            'statnId': '1007000738', 'subwayList': '1007', 'statnSn': '30', 'curstatnsn': '2',\n",
    "            'cStatnNm': '상도방면', 'arvlMsg': ' ', 'statnList': '1007000738', 'bStatnId': '28',\n",
    "            'bArvlTm': '300', 'updnLine': '하행', 'trnsitCo': '1', 'subwayHeading': '왼쪽',\n",
    "            'statnNm': '숭실대입구(살피재)', 'trainLineNm': '부평구청행 - 상도방면', 'gpsX':\n",
    "            '126.95364613852064', 'arvlCd': '99', 'subwayId': '1007', 'trainLine': '1', 'acdntCn': '\n",
    "            ', 'bStatnNm': '부평구청행', 'delayTime': '0', 'arvlMsg2': '5분 후 (총신대입구(이수))',\n",
    "            'bArvlDt': '300', 'bTrainNo': '7125', 'bStatnSn': '28', 'trainCd': '1', 'gpsY':\n",
    "            '37.49636243455655', 'arvlMsg3': '총신대입구(이수)'}], 'error': {'errorCode': '0000',\n",
    "            'errorMessage': '성공'}, 'resultList2': [{'x': '195901.37022', 'statnId': '1007000738',\n",
    "            'zipNo': '156035', 'subwayId': '1007', 'subwayList': '1007:1007000738,', 'telNo':\n",
    "            '02-6311-7381', 'statnTid': '1007000737', 'adres': '서울특별시 동작구 상도5동178-1',\n",
    "            'fxNum': ' ', 'statnFnm': '상도', 'statnTnm': '남성', 'statnFid': '1007000739',\n",
    "            'statnNmEng': 'Soongsil Univ.', 'operPblinstt': '도시철도', 'y': '444107.01879',\n",
    "            'subwayNm': '7호선', 'trnsitCo': '1', 'statnNm': '숭실대입구'}]}\n",
    "        \"\"\"\n",
    "\n",
    "        ret = jsn.get('resultList2')[0].get('statnNm') + '\\n'\n",
    "\n",
    "        if jsn.get('resultList') is None:\n",
    "            return '곧 수정하겠습니다 아직 이부분은 왜안되는지 이유를 모르겠네요'\n",
    "        for j in range(len(jsn.get('resultList'))):\n",
    "            ret += '-----------------------\\n|'\n",
    "            ret += jsn.get('resultList')[j].get('trainLineNm') + '\\n| '\n",
    "            ret += jsn.get('resultList')[j].get('arvlMsg2') + '\\n|'\n",
    "            # for k in jsn.get('resultList')[j].keys():\n",
    "            #\tprint(k, jsn.get('resultList')[j].get(k))\n",
    "            # print('-------------------')\n",
    "\n",
    "        return ret + '-----------------------'\n",
    "\n",
    "\n",
    "class BusParser(metaclass=Singleton):\n",
    "    \"\"\"\n",
    "    ex: http://bus.go.kr/xmlRequest/getStationByUid.jsp?strBusNumber=13157'\n",
    "    \"\"\"\n",
    "\n",
    "    url = 'http://bus.go.kr/xmlRequest/getStationByUid.jsp'\n",
    "\n",
    "    def get_station_stat(self, station_number):\n",
    "        res = requests.get(bus_api.url, dict(strBusNumber=station_number))\n",
    "        soup = BeautifulSoup(res.text, 'html.parser')\n",
    "        ret = ''\n",
    "\n",
    "        for bus_name, left_time_1, left_time_2 in zip(soup.select('rtnm'),\\\n",
    "                soup.select('arrmsg1'), soup.select('arrmsg2')):\n",
    "            ret += \"-------------------\\n| Bus:{0:<8}\\n|{1:<10}\\n|{2:<13}\\n\".format(\\\n",
    "                    bus_name.string, left_time_1.string, left_time_2.string)\n",
    "        return ret + '-------------------'\n",
    "\n",
    "\n",
    "subway_api = SubwayParser()\n",
    "bus_api = BusParser()"
   ]
  },
  {
   "cell_type": "code",
   "execution_count": 292,
   "metadata": {},
   "outputs": [
    {
     "name": "stdout",
     "output_type": "stream",
     "text": [
      "-------------------\n",
      "| Bus:501     \n",
      "|9분10초후[5번째 전]\n",
      "|11분49초후[6번째 전]\n",
      "-------------------\n",
      "| Bus:506     \n",
      "|8분29초후[4번째 전]\n",
      "|15분56초후[8번째 전]\n",
      "-------------------\n",
      "| Bus:641     \n",
      "|곧 도착      \n",
      "|10분3초후[6번째 전]\n",
      "-------------------\n",
      "| Bus:650     \n",
      "|12분41초후[8번째 전]\n",
      "|23분20초후[14번째 전]\n",
      "-------------------\n",
      "| Bus:750A    \n",
      "|곧 도착      \n",
      "|6분14초후[3번째 전]\n",
      "-------------------\n",
      "| Bus:750B    \n",
      "|20분28초후[10번째 전]\n",
      "|23분14초후[11번째 전]\n",
      "-------------------\n",
      "| Bus:5511    \n",
      "|1분52초후[1번째 전]\n",
      "|9분41초후[6번째 전]\n",
      "-------------------\n",
      "| Bus:5517    \n",
      "|3분44초후[2번째 전]\n",
      "|13분8초후[7번째 전]\n",
      "-------------------\n"
     ]
    }
   ],
   "source": [
    "print(bus_api.get_station_stat('20165'))"
   ]
  },
  {
   "cell_type": "code",
   "execution_count": 293,
   "metadata": {
    "collapsed": true
   },
   "outputs": [],
   "source": [
    "url = 'http://203.253.28.47/seat/domian5.asp'"
   ]
  },
  {
   "cell_type": "code",
   "execution_count": 308,
   "metadata": {
    "collapsed": true
   },
   "outputs": [],
   "source": [
    "r = requests.get(url)"
   ]
  },
  {
   "cell_type": "code",
   "execution_count": 309,
   "metadata": {},
   "outputs": [],
   "source": [
    "r.encoding = 'utf-8'"
   ]
  },
  {
   "cell_type": "code",
   "execution_count": 310,
   "metadata": {},
   "outputs": [
    {
     "data": {
      "text/plain": [
       "'\\r\\n\\r\\n<!DOCTYPE HTML PUBLIC \"-//W3C//DTD HTML 4.0 Transitional//EN\">\\r\\n<HTML>\\r\\n<HEAD>\\r\\n<TITLE> �����Ǻ� �ǽð� �¼� ����</TITLE>\\r\\n<META http-equiv=\"refresh\" content=\"60; url=./domian5.asp\" >\\r\\n<META NAME=\"Generator\" CONTENT=\"EditPlus\">\\r\\n<META NAME=\"Author\" CONTENT=\"������\\u05fd���\">\\r\\n<META NAME=\"Keywords\" CONTENT=\" �����Ǻ� �ǽð� �¼� ����\">\\r\\n<META NAME=\"Description\" CONTENT=\" �����Ǻ� �ǽð� �¼� ����\">\\r\\n</HEAD>\\r\\n\\r\\n\\r\\n<BODY>\\r\\n\\t<CENTER>\\r\\n\\t<FORM METHOD=POST ACTION=\"\">\\r\\n\\t\\t<TABLE BORDER=\"0\">\\r\\n\\t\\t<TR>\\r\\n\\t\\t\\t<TD>\\r\\n<!--\\t\\t\\t\\t<IMG SRC=\"./images/\" ALT=\"\">-->\\r\\n\\t\\t\\t</TD>\\r\\n\\t\\t\\t<TD>\\r\\n\\t\\t\\t\\t<FONT SIZE=\"4\"><B> �����Ǻ� �ǽð� �¼� ����</B></FONT>\\r\\n\\t\\t\\t</TD>\\r\\n\\t\\t</TR>\\r\\n\\t\\t</TABLE>\\r\\n\\t\\t<!--TABLE BORDER=\"1\" CELLSPACING=\"0\" CELLPADDING=\"1\" ALIGN=\"CENTER\" >\\r\\n\\t\\t<TR ALIGN=\"RIGHT\" WIDTH=\"100%\">\\r\\n\\t\\t\\t<TD><FONT SIZE=-1>2017-05-30&nbsp;���� 4:49:00 ����&nbsp;&nbsp;&nbsp;&nbsp;</FONT></TD>\\r\\n\\t\\t</TR>\\r\\n\\t\\t</TABLE-->\\r\\n<BR><TABLE BORDER=\"1\" CELLSPACING=\"0\" CELLPADDING=\"1\"  WIDTH=900>\\r\\n\\t<TR ALIGN=\"RIGHT\" WIDTH=\"100%\">\\r\\n\\t\\t<TD COLSPAN=\"6\"><FONT SIZE=-1>2017-05-30&nbsp;���� 4:49:00 ����&nbsp;</FONT></TD>\\r\\n\\t</TR>\\r\\n\\t<TR ALIGN=\"CENTER\" WIDTH=\"100%\" HEIGHT=\"25\">\\r\\n\\t<TD><FONT SIZE=-1>����</FONT></TD>\\r\\n\\t<TD WIDTH=\"30%\"><FONT SIZE=-1>�����Ǹ�</FONT></TD>\\r\\n\\t<TD><FONT SIZE=-1>��ü �¼���</FONT></TD>\\r\\n\\t<TD><FONT SIZE=-1>��� �¼���</FONT></TD>\\r\\n\\t<TD><FONT SIZE=-1>�ܿ� �¼���</FONT></TD>\\r\\n\\t<TD WIDTH=\"350\"><FONT SIZE=-1>�̿���(%)</FONT></TD>\\r\\n\\t</TR><TR ALIGN=\"CENTER\" style=\"background-color:#F2F2F2\"\\r\\n\\t\\t\\t\\t\\t onmouseover=\"javascript:this.style.backgroundColor=\\'#DBE7FF\\';\"\\r\\n\\t\\t\\t\\t\\t onmouseout=\"javascript:this.style.backgroundColor=\\'#F2F2F2\\';\" HEIGHT=\"25\"><TD><FONT SIZE=-1>1</FONT></TD><TD ALIGN=\"CENTER\"><FONT COLOR=\"blue\" SIZE=-1><A HREF=\"roomview5.asp?room_no=1\">&nbsp;��1������</A></FONT></TD><TD ALIGN=\"CENTER\"><FONT SIZE=-1>&nbsp;428</FONT></TD><TD ALIGN=\"CENTER\"><FONT SIZE=-1>&nbsp;102</FONT></TD><TD ALIGN=\"CENTER\"><FONT COLOR=\"blue\" SIZE=-1>&nbsp;326</FONT></TD><TD ALIGN=\"LEFT\">\\r\\n\\t&nbsp;&nbsp;&nbsp;<img src=\"./images/hbar_0.gif\" width=59.575 height=13 border=0 alt=\"23.83 %\">\\r\\n\\t\\t<FONT COLOR=\"blue\" SIZE=-1>&nbsp;23.83 %</FONT></TD></TR><TR ALIGN=\"CENTER\" style=\"background-color:#FFFFFF\"\\r\\n\\t\\t\\t\\t\\t onmouseover=\"javascript:this.style.backgroundColor=\\'#DBE7FF\\';\"\\r\\n\\t\\t\\t\\t\\t onmouseout=\"javascript:this.style.backgroundColor=\\'#FFFFFF\\';\" HEIGHT=\"25\"><TD><FONT SIZE=-1>2</FONT></TD><TD ALIGN=\"CENTER\"><FONT COLOR=\"blue\" SIZE=-1><A HREF=\"roomview5.asp?room_no=2\">&nbsp;��2������</A></FONT></TD><TD ALIGN=\"CENTER\"><FONT SIZE=-1>&nbsp;100</FONT></TD><TD ALIGN=\"CENTER\"><FONT SIZE=-1>&nbsp;80</FONT></TD><TD ALIGN=\"CENTER\"><FONT COLOR=\"blue\" SIZE=-1>&nbsp;20</FONT></TD><TD ALIGN=\"LEFT\">\\r\\n\\t&nbsp;&nbsp;&nbsp;<img src=\"./images/hbar_1.gif\" width=200 height=13 border=0 alt=\"80 %\">\\r\\n\\t\\t<FONT COLOR=\"blue\" SIZE=-1>&nbsp;80 %</FONT></TD></TR><TR ALIGN=\"CENTER\" style=\"background-color:#F2F2F2\"\\r\\n\\t\\t\\t\\t\\t onmouseover=\"javascript:this.style.backgroundColor=\\'#DBE7FF\\';\"\\r\\n\\t\\t\\t\\t\\t onmouseout=\"javascript:this.style.backgroundColor=\\'#F2F2F2\\';\" HEIGHT=\"25\"><TD><FONT SIZE=-1>3</FONT></TD><TD ALIGN=\"CENTER\"><FONT COLOR=\"blue\" SIZE=-1><A HREF=\"roomview5.asp?room_no=3\">&nbsp;��3������</A></FONT></TD><TD ALIGN=\"CENTER\"><FONT SIZE=-1>&nbsp;117</FONT></TD><TD ALIGN=\"CENTER\"><FONT SIZE=-1>&nbsp;76</FONT></TD><TD ALIGN=\"CENTER\"><FONT COLOR=\"blue\" SIZE=-1>&nbsp;41</FONT></TD><TD ALIGN=\"LEFT\">\\r\\n\\t&nbsp;&nbsp;&nbsp;<img src=\"./images/hbar_2.gif\" width=162.4 height=13 border=0 alt=\"64.96 %\">\\r\\n\\t\\t<FONT COLOR=\"blue\" SIZE=-1>&nbsp;64.96 %</FONT></TD></TR><TR ALIGN=\"CENTER\" style=\"background-color:#FFFFFF\"\\r\\n\\t\\t\\t\\t\\t onmouseover=\"javascript:this.style.backgroundColor=\\'#DBE7FF\\';\"\\r\\n\\t\\t\\t\\t\\t onmouseout=\"javascript:this.style.backgroundColor=\\'#FFFFFF\\';\" HEIGHT=\"25\"><TD><FONT SIZE=-1>4</FONT></TD><TD ALIGN=\"CENTER\"><FONT COLOR=\"blue\" SIZE=-1><A HREF=\"roomview5.asp?room_no=4\">&nbsp;��4������</A></FONT></TD><TD ALIGN=\"CENTER\"><FONT SIZE=-1>&nbsp;172</FONT></TD><TD ALIGN=\"CENTER\"><FONT SIZE=-1>&nbsp;61</FONT></TD><TD ALIGN=\"CENTER\"><FONT COLOR=\"blue\" SIZE=-1>&nbsp;111</FONT></TD><TD ALIGN=\"LEFT\">\\r\\n\\t&nbsp;&nbsp;&nbsp;<img src=\"./images/hbar_3.gif\" width=88.675 height=13 border=0 alt=\"35.47 %\">\\r\\n\\t\\t<FONT COLOR=\"blue\" SIZE=-1>&nbsp;35.47 %</FONT></TD></TR></TABLE>\\r\\n\\r\\n\\t\\r\\n\\t<BR>\\r\\n\\t<a href=\"JavaScript:ExcelSave();\"><img src=\"./images/ExcelSave.gif\" border=0></a>&nbsp;\\r\\n\\t<BR>\\r\\n\\r\\n\\r\\n\\r\\n\\t<BR><FONT SIZE=-1>�� �� �������� 1�п� �� ���� �ڵ����� ���ŵ˴ϴ�.</FONT><BR>\\r\\n\\t</FORM>\\r\\n\\t\\t\\t<FONT SIZE=-1>Copyright �� 2010 . All rights reserved.</FONT>\\r\\n\\t</CENTER>\\r\\n</BODY>\\r\\n\\r\\n<script language=\"JavaScript\">\\r\\n<!--\\r\\nfunction ExcelSave() { \\r\\n\\tvar gotourl;\\r\\n\\r\\n//\\tgotourl = \"./domian5_xls.asp?QUERY=Y&sROOM=&sDEPT=&txtSEAT=&start1yy=&start1mm=&start1dd=&end1yy=&end1mm=&end1dd=&chkSEAT=&chkDay=\";\\r\\n\\tgotourl = \"./domian5_xls.asp?QUERY=Y\";\\r\\n\\r\\n\\tlocation.href = gotourl;\\r\\n}\\r\\n\\r\\nfunction goUserHistory() {\\r\\n\\tlocation.href = \"./UserHistory.asp\";\\r\\n\\treturn;\\r\\n}\\r\\n-->\\r\\n</script>\\r\\n\\r\\n</HTML>\\r\\n'"
      ]
     },
     "execution_count": 310,
     "metadata": {},
     "output_type": "execute_result"
    }
   ],
   "source": [
    "r.text"
   ]
  },
  {
   "cell_type": "code",
   "execution_count": 311,
   "metadata": {},
   "outputs": [],
   "source": [
    "soup = BeautifulSoup(r.text, 'html.parser')"
   ]
  },
  {
   "cell_type": "code",
   "execution_count": 362,
   "metadata": {},
   "outputs": [],
   "source": [
    "k = soup.find_all('tr')[3].find_all(attrs={'color':'blue'})[1]"
   ]
  },
  {
   "cell_type": "code",
   "execution_count": 363,
   "metadata": {},
   "outputs": [
    {
     "data": {
      "text/plain": [
       "'\\xa0326'"
      ]
     },
     "execution_count": 363,
     "metadata": {},
     "output_type": "execute_result"
    }
   ],
   "source": [
    "k.getText()"
   ]
  },
  {
   "cell_type": "code",
   "execution_count": 366,
   "metadata": {},
   "outputs": [
    {
     "name": "stdout",
     "output_type": "stream",
     "text": [
      "남은좌석: 326 이용률: 23.83 %\n",
      "남은좌석: 20 이용률: 80 %\n",
      "남은좌석: 41 이용률: 64.96 %\n",
      "남은좌석: 111 이용률: 35.47 %\n"
     ]
    }
   ],
   "source": [
    "for i in soup.find_all('tr')[3:]:\n",
    "    rest = i.find_all(attrs={'color':'blue'})[1].getText()\n",
    "    percent = i.find_all(attrs={'color':'blue'})[2].getText()\n",
    "    print(\"남은좌석:{} 이용률:{}\".format(rest, percent))"
   ]
  },
  {
   "cell_type": "code",
   "execution_count": 370,
   "metadata": {
    "collapsed": true
   },
   "outputs": [],
   "source": [
    "\n",
    "class LibParser(metaclass=Singleton):\n",
    "    url = 'http://203.253.28.47/seat/domian5.asp'\n",
    "    \n",
    "    def print_seat(self):\n",
    "        r = requests.get(url)\n",
    "        soup = BeautifulSoup(r.text, 'html.parser')\n",
    "        for i in soup.find_all('tr')[3:]:\n",
    "            rest = i.find_all(attrs={'color':'blue'})[1].getText()\n",
    "            percent = i.find_all(attrs={'color':'blue'})[2].getText()\n",
    "            print(\"남은좌석:{} 이용률:{}\".format(rest, percent))\n"
   ]
  },
  {
   "cell_type": "code",
   "execution_count": 371,
   "metadata": {
    "collapsed": true
   },
   "outputs": [],
   "source": [
    "l = LibParser()"
   ]
  },
  {
   "cell_type": "code",
   "execution_count": 372,
   "metadata": {},
   "outputs": [
    {
     "name": "stdout",
     "output_type": "stream",
     "text": [
      "남은좌석: 409 이용률: 4.44 %\n",
      "남은좌석: 74 이용률: 26 %\n",
      "남은좌석: 99 이용률: 15.38 %\n",
      "남은좌석: 150 이용률: 12.79 %\n"
     ]
    }
   ],
   "source": [
    "l.print_seat()"
   ]
  },
  {
   "cell_type": "code",
   "execution_count": 382,
   "metadata": {
    "collapsed": true
   },
   "outputs": [],
   "source": [
    "class LibParser(metaclass=Singleton):\n",
    "    url = 'http://203.253.28.47/seat/domian5.asp'\n",
    "    seat = {\n",
    "        '1 열람실': {\n",
    "            '전체 좌석': 428,\n",
    "            '남은 좌석': None,\n",
    "            '사용중인 좌석': None,\n",
    "            '이용률': None\n",
    "        },\n",
    "        '2 열람실': {\n",
    "            '전체 좌석': 100,\n",
    "            '남은 좌석': None,\n",
    "            '사용중인 좌석': None,\n",
    "            '이용률': None\n",
    "        },\n",
    "        '3 열람실': {\n",
    "            '전체 좌석': 117,\n",
    "            '남은 좌석': None,\n",
    "            '사용중인 좌석': None,\n",
    "            '이용률': None\n",
    "        },\n",
    "        '4 열람실': {\n",
    "            '전체 좌석': 172,\n",
    "            '남은 좌석': None,\n",
    "            '사용중인 좌석': None,\n",
    "            '이용률': None\n",
    "        }\n",
    "    }\n",
    "\n",
    "\n",
    "    def get_lib_stat(self):\n",
    "        r = requests.get(lib_api.url)\n",
    "        soup = BeautifulSoup(r.text, 'html.parser')\n",
    "        cnt = 1\n",
    "        for i in soup.find_all('tr')[3:]:\n",
    "            rest = i.find_all(attrs={'color': 'blue'})[1].getText()\n",
    "            usage_percent = i.find_all(attrs={'color': 'blue'})[2].getText()\n",
    "            room = lib_api.seat ['{} 열람실'.format(cnt)]\n",
    "            room['남은 좌석'] = int(rest)\n",
    "            room['사용중인 좌석'] = room['전체 좌석']-room['남은 좌석']\n",
    "            room['이용률'] = usage_percent\n",
    "\n",
    "            #print(\"남은좌석:{} 이용률:{}\".format(rest, usage_percent))\n",
    "\n",
    "lib_api = LibParser()\n"
   ]
  },
  {
   "cell_type": "code",
   "execution_count": 385,
   "metadata": {},
   "outputs": [],
   "source": [
    "lib_api.get_lib_stat()"
   ]
  },
  {
   "cell_type": "code",
   "execution_count": 404,
   "metadata": {},
   "outputs": [],
   "source": [
    "unordered_list = lib_api.seat"
   ]
  },
  {
   "cell_type": "code",
   "execution_count": 420,
   "metadata": {
    "collapsed": true
   },
   "outputs": [],
   "source": [
    "\n",
    "\n",
    "class LibParser(metaclass=Singleton):\n",
    "    url = 'http://203.253.28.47/seat/domian5.asp'\n",
    "    seat = {\n",
    "        '1 열람실': {\n",
    "            '전체 좌석': 428,\n",
    "            '잔여 좌석': None,\n",
    "            '사용중인 좌석': None,\n",
    "            '이용률': None\n",
    "        },\n",
    "        '2 열람실': {\n",
    "            '전체 좌석': 100,\n",
    "            '잔여 좌석': None,\n",
    "            '사용중인 좌석': None,\n",
    "            '이용률': None\n",
    "        },\n",
    "        '3 열람실': {\n",
    "            '전체 좌석': 117,\n",
    "            '잔여 좌석': None,\n",
    "            '사용중인 좌석': None,\n",
    "            '이용률': None\n",
    "        },\n",
    "        '4 열람실': {\n",
    "            '전체 좌석': 172,\n",
    "            '잔여 좌석': None,\n",
    "            '사용중인 좌석': None,\n",
    "            '이용률': None\n",
    "        }\n",
    "    }\n",
    "\n",
    "    def get_lib_stat(self):\n",
    "        r = requests.get(lib_api.url)\n",
    "        soup = BeautifulSoup(r.text, 'html.parser')\n",
    "        cnt = 1\n",
    "        for i in soup.find_all('tr')[3:]:\n",
    "            rest = i.find_all(attrs={'color': 'blue'})[1].getText()\n",
    "            usage_percent = i.find_all(attrs={'color': 'blue'})[2].getText()\n",
    "            room = lib_api.seat ['{} 열람실'.format(cnt)]\n",
    "            room['잔여 좌석'] = int(rest)\n",
    "            room['사용중인 좌석'] = int(room['전체 좌석'])-room['잔여 좌석']\n",
    "            room['이용률'] = usage_percent\n",
    "            cnt += 1\n",
    "            #print(\"잔여좌석:{} 이용률:{}\".format(rest, usage_percent))\n",
    "        return self.seat\n",
    "\n",
    "lib_api = LibParser()"
   ]
  },
  {
   "cell_type": "code",
   "execution_count": 421,
   "metadata": {},
   "outputs": [
    {
     "data": {
      "text/plain": [
       "{'1 열람실': {'사용중인 좌석': 54, '이용률': '\\xa012.62 %', '잔여 좌석': 374, '전체 좌석': 428},\n",
       " '2 열람실': {'사용중인 좌석': 39, '이용률': '\\xa039 %', '잔여 좌석': 61, '전체 좌석': 100},\n",
       " '3 열람실': {'사용중인 좌석': 37, '이용률': '\\xa031.62 %', '잔여 좌석': 80, '전체 좌석': 117},\n",
       " '4 열람실': {'사용중인 좌석': 43, '이용률': '\\xa025 %', '잔여 좌석': 129, '전체 좌석': 172}}"
      ]
     },
     "execution_count": 421,
     "metadata": {},
     "output_type": "execute_result"
    }
   ],
   "source": [
    "lib_api.get_lib_stat()"
   ]
  },
  {
   "cell_type": "code",
   "execution_count": 392,
   "metadata": {},
   "outputs": [
    {
     "data": {
      "text/plain": [
       "{'1 열람실': {'사용중인 좌석': 21, '이용률': '\\xa04.91 %', '잔여 좌석': 407, '전체 좌석': 428},\n",
       " '2 열람실': {'사용중인 좌석': 26, '이용률': '\\xa026 %', '잔여 좌석': 74, '전체 좌석': 100},\n",
       " '3 열람실': {'사용중인 좌석': 18, '이용률': '\\xa015.38 %', '잔여 좌석': 99, '전체 좌석': 117},\n",
       " '4 열람실': {'사용중인 좌석': 21, '이용률': '\\xa012.21 %', '잔여 좌석': 151, '전체 좌석': 172}}"
      ]
     },
     "execution_count": 392,
     "metadata": {},
     "output_type": "execute_result"
    }
   ],
   "source": [
    "lib_api.seat\n"
   ]
  },
  {
   "cell_type": "code",
   "execution_count": 427,
   "metadata": {},
   "outputs": [],
   "source": [
    "from collections import OrderedDict\n",
    "\n",
    "def get_buttons():\n",
    "    ret_buttons = []\n",
    "    unordered_lib_stats = lib_api.get_lib_stat()\n",
    "    lib_stats = OrderedDict(sorted(unordered_lib_stats.items()))\n",
    "    for button in lib_stats:\n",
    "        ret_buttons.append(button+lib_stats[button]['이용률'])\n",
    "    return ret_buttons"
   ]
  },
  {
   "cell_type": "code",
   "execution_count": 430,
   "metadata": {},
   "outputs": [
    {
     "name": "stdout",
     "output_type": "stream",
     "text": [
      "1 열람실 12.38 %\n"
     ]
    }
   ],
   "source": [
    "print(get_buttons()[0])"
   ]
  },
  {
   "cell_type": "code",
   "execution_count": 405,
   "metadata": {},
   "outputs": [
    {
     "data": {
      "text/plain": [
       "{'1 열람실': {'사용중인 좌석': 51, '이용률': '\\xa011.92 %', '잔여 좌석': 377, '전체 좌석': 428},\n",
       " '2 열람실': {'사용중인 좌석': 38, '이용률': '\\xa038 %', '잔여 좌석': 62, '전체 좌석': 100},\n",
       " '3 열람실': {'사용중인 좌석': 37, '이용률': '\\xa031.62 %', '잔여 좌석': 80, '전체 좌석': 117},\n",
       " '4 열람실': {'사용중인 좌석': 41, '이용률': '\\xa023.84 %', '잔여 좌석': 131, '전체 좌석': 172}}"
      ]
     },
     "execution_count": 405,
     "metadata": {},
     "output_type": "execute_result"
    }
   ],
   "source": [
    "unordered_list"
   ]
  },
  {
   "cell_type": "code",
   "execution_count": 406,
   "metadata": {},
   "outputs": [
    {
     "data": {
      "text/plain": [
       "dict_keys(['2 열람실', '4 열람실', '3 열람실', '1 열람실'])"
      ]
     },
     "execution_count": 406,
     "metadata": {},
     "output_type": "execute_result"
    }
   ],
   "source": [
    "unordered_list.keys()"
   ]
  },
  {
   "cell_type": "code",
   "execution_count": 409,
   "metadata": {},
   "outputs": [
    {
     "data": {
      "text/plain": [
       "[('1 열람실', {'사용중인 좌석': 51, '이용률': '\\xa011.92 %', '잔여 좌석': 377, '전체 좌석': 428}),\n",
       " ('2 열람실', {'사용중인 좌석': 38, '이용률': '\\xa038 %', '잔여 좌석': 62, '전체 좌석': 100}),\n",
       " ('3 열람실', {'사용중인 좌석': 37, '이용률': '\\xa031.62 %', '잔여 좌석': 80, '전체 좌석': 117}),\n",
       " ('4 열람실', {'사용중인 좌석': 41, '이용률': '\\xa023.84 %', '잔여 좌석': 131, '전체 좌석': 172})]"
      ]
     },
     "execution_count": 409,
     "metadata": {},
     "output_type": "execute_result"
    }
   ],
   "source": [
    "sorted(unordered_list.items())"
   ]
  },
  {
   "cell_type": "code",
   "execution_count": 411,
   "metadata": {},
   "outputs": [],
   "source": [
    "ordered_dict = OrderedDict(sorted(unordered_list.items()))"
   ]
  },
  {
   "cell_type": "code",
   "execution_count": 413,
   "metadata": {},
   "outputs": [
    {
     "name": "stdout",
     "output_type": "stream",
     "text": [
      "1 열람실\n",
      "2 열람실\n",
      "3 열람실\n",
      "4 열람실\n"
     ]
    }
   ],
   "source": [
    "for button in ordered_dict:\n",
    "    print(button)"
   ]
  },
  {
   "cell_type": "code",
   "execution_count": 432,
   "metadata": {},
   "outputs": [],
   "source": [
    "from bs4 import BeautifulSoup\n",
    "import requests\n",
    "import urllib\n",
    "\n",
    "from collections import OrderedDict\n",
    "\n",
    "\n",
    "class Parser:\n",
    "    def __init__(self):\n",
    "        self.base_url = None\n",
    "\n",
    "    def refresh(self):\n",
    "        pass\n",
    "\n",
    "\n",
    "class Singleton(type):\n",
    "    instance = None\n",
    "\n",
    "    def __call__(cls, *args, **kwargs):\n",
    "        if not cls.instance:\n",
    "            cls.instance = super(Singleton, cls).__call__(*args, **kwargs)\n",
    "        return cls.instance\n",
    "\n",
    "\n",
    "class FoodParser(Parser):\n",
    "    def __init__(self):\n",
    "        self.base_url = 'http://soongguri.com/menu/m_menujson.php'\n",
    "        self.faculty_food = None\n",
    "        self.pupil_food = None\n",
    "        self.the_kitchen = None\n",
    "        self.snack_corner = None\n",
    "        self.food_court = None\n",
    "\n",
    "    def refresh(self):\n",
    "        \"\"\"\n",
    "        서버에 request를 보내서 식당 정보들을 갱신한다.\n",
    "        인자로 fkey를 받는데 1은 월요일, 5는 금요일 이런식이다.\n",
    "        fkey 인자를 생략하면 자동으로 오늘의 식단 가져옴\n",
    "        :return: None\n",
    "        \"\"\"\n",
    "        res = requests.get(self.base_url)\n",
    "        jsn = res.json()\n",
    "        self.pupil_food = jsn.get('학생식당')\n",
    "        self.the_kitchen = jsn.get('THE KITCHEN')\n",
    "        self.snack_corner = jsn.get('스넥코너')\n",
    "        self.food_court = jsn.get('푸드코트')\n",
    "        self.faculty_food = jsn.get('교직원식당')\n",
    "\n",
    "    def get_faculty_food(self):\n",
    "        ret_dict = {}\n",
    "        for section in self.faculty_food:\n",
    "            ret_dict.update({section: []})\n",
    "            soup = BeautifulSoup(self.faculty_food[section], 'html.parser')\n",
    "            ret_dict[section].append(soup.text)\n",
    "\n",
    "        ret_dict.pop('조식') # 조식은 항상 조식 : 조식 이런 의미없는 데이터만 있음\n",
    "        #교식이 점심부터 시작하는것 같다.\n",
    "\n",
    "        return ret_dict\n",
    "\n",
    "    def get_pupil_food(self):\n",
    "        ret_dict = {}\n",
    "        for section in self.pupil_food:\n",
    "            ret_dict.update({section: []})\n",
    "            soup = BeautifulSoup(self.pupil_food[section], 'html.parser')\n",
    "            ret_dict[section].append(soup.text)\n",
    "        return ret_dict\n",
    "\n",
    "    def get_the_kitchen(self):\n",
    "        \"\"\"\n",
    "        TODO: 정규표현식 이용해서 메뉴 가격 깔끔하게 나누기\n",
    "        :return: dict\n",
    "        \"\"\"\n",
    "        ret_dict = {}\n",
    "        for section in self.the_kitchen:\n",
    "            ret_dict.update({section: []})\n",
    "            soup = BeautifulSoup(self.the_kitchen[section], 'html.parser')\n",
    "            ret_dict[section].append(soup.text)\n",
    "        return ret_dict\n",
    "\n",
    "    def get_snack_corner(self):\n",
    "        \"\"\"\n",
    "            TODO: 정규표현식 이용해서 메뉴 가격 깔끔하게 나누기\n",
    "            :return: dict\n",
    "        \"\"\"\n",
    "        ret_dict = {}\n",
    "        for section in self.snack_corner:\n",
    "            ret_dict.update({section: []})\n",
    "            soup = BeautifulSoup(self.snack_corner[section], 'html.parser')\n",
    "            ret_dict[section].append(soup.text)\n",
    "        return ret_dict\n",
    "\n",
    "    def get_food_court(self):\n",
    "        \"\"\"\n",
    "            TODO: 정규표현식 이용해서 메뉴 가격 깔끔하게 나누기\n",
    "            :return: dict\n",
    "        \"\"\"\n",
    "        ret_dict = {}\n",
    "        for section in self.food_court:\n",
    "            ret_dict.update({section: []})\n",
    "            soup = BeautifulSoup(self.food_court[section], 'html.parser')\n",
    "            ret_dict[section].append(soup.text)\n",
    "        return ret_dict\n",
    "\n",
    "\n",
    "class SubwayParser(metaclass=Singleton):\n",
    "    \"\"\"\n",
    "\n",
    "    \"\"\"\n",
    "    station_name_url = 'http://m.bus.go.kr/mBus/subway/getStatnByNm.bms'\n",
    "    arrival_info_url = 'http://m.bus.go.kr/mBus/subway/getArvlByInfo.bms'\n",
    "\n",
    "    def get_station_stat(self, station_name):\n",
    "        station_name = urllib.parse.quote(station_name.replace('역', ''))\n",
    "        # 숭실대입구역 -> 숭실대입구 로 변환해야 검색됨\n",
    "        # 문제점 역삼역 같은경우 역삼역 -> 삼 으로 변환됨...!\n",
    "        res = requests.get(subway_api.station_name_url + '?' + 'statnNm=' + station_name.replace('%', '%25'))\n",
    "        jsn = res.json()\n",
    "\n",
    "        if res.json().get('resultList') is None:\n",
    "            return '그런역 없습니다 다른이름으로 검색하세요'\n",
    "        subway_id = jsn.get('resultList')[0].get('subwayId')\n",
    "        statn_id = jsn.get('resultList')[0].get('statnId')\n",
    "\n",
    "        res = requests.get(subway_api.arrival_info_url + '?' +\n",
    "                           'subwayId=' + subway_id + '&statnId=' + statn_id)\n",
    "        jsn = res.json()\n",
    "        \"\"\"\n",
    "        result of print(jsn) is\n",
    "        {'resultList': [{'bTrainKind': '0', 'statnId': '1007000738', 'subwayList': '1007',\n",
    "        'statnSn': '30', 'curstatnsn': '0', 'cStatnNm': '남성방면', 'arvlMsg': ' ', 'statnList':\n",
    "        '1007000738', 'bStatnId': '30', 'bArvlTm': '60', 'updnLine': '상행', 'trnsitCo': '1',\n",
    "        'subwayHeading': '오른쪽', 'statnNm': '숭실대입구(살피재)', 'trainLineNm': '도봉산행 -\n",
    "        남성방면', 'gpsX': '126.95364613852064', 'arvlCd': '2', 'subwayId': '1007', 'trainLine':\n",
    "        '0', 'acdntCn': ' ', 'bStatnNm': '도봉산행', 'delayTime': '0', 'arvlMsg2':\n",
    "        '숭실대입구(살피재) 출발', 'bArvlDt': '60', 'bTrainNo': '7118', 'bStatnSn': '30', 'trainCd':\n",
    "        '2', 'gpsY': '37.49636243455655', 'arvlMsg3': '숭실대입구(살피재)'}, {'bTrainKind': '0',\n",
    "        'statnId': '1007000738', 'subwayList': '1007', 'statnSn': '30', 'curstatnsn': '2',\n",
    "        'cStatnNm': '남성방면', 'arvlMsg': ' ', 'statnList': '1007000738', 'bStatnId': '32',\n",
    "        'bArvlTm': '240', 'updnLine': '상행', 'trnsitCo': '1', 'subwayHeading': '오른쪽', 'statnNm':\n",
    "            '숭실대입구(살피재)', 'trainLineNm': '장암행 - 남성방면', 'gpsX': '126.95364613852064',\n",
    "            'arvlCd': '99', 'subwayId': '1007', 'trainLine': '0', 'acdntCn': ' ', 'bStatnNm':\n",
    "            '장암행', 'delayTime': '0', 'arvlMsg2': '4분 후 (장승배기)', 'bArvlDt': '240',\n",
    "            'bTrainNo': '7120', 'bStatnSn': '32', 'trainCd': '1', 'gpsY': '37.49636243455655',\n",
    "            'arvlMsg3': '장승배기'}, {'bTrainKind': '0', 'statnId': '1007000738', 'subwayList':\n",
    "            '1007', 'statnSn': '30', 'curstatnsn': '1', 'cStatnNm': '상도방면', 'arvlMsg': ' ',\n",
    "            'statnList': '1007000738', 'bStatnId': '29', 'bArvlTm': '120', 'updnLine': '하행',\n",
    "            'trnsitCo': '1', 'subwayHeading': '왼쪽', 'statnNm': '숭실대입구(살피재)',\n",
    "            'trainLineNm': '온수행 - 상도방면', 'gpsX': '126.95364613852064', 'arvlCd': '3',\n",
    "            'subwayId': '1007', 'trainLine': '1', 'acdntCn': ' ', 'bStatnNm': '온수행', 'delayTime':\n",
    "            '0', 'arvlMsg2': '전역 출발', 'bArvlDt': '120', 'bTrainNo': '7123', 'bStatnSn': '29',\n",
    "            'trainCd': '2', 'gpsY': '37.49636243455655', 'arvlMsg3': '남성'}, {'bTrainKind': '0',\n",
    "            'statnId': '1007000738', 'subwayList': '1007', 'statnSn': '30', 'curstatnsn': '2',\n",
    "            'cStatnNm': '상도방면', 'arvlMsg': ' ', 'statnList': '1007000738', 'bStatnId': '28',\n",
    "            'bArvlTm': '300', 'updnLine': '하행', 'trnsitCo': '1', 'subwayHeading': '왼쪽',\n",
    "            'statnNm': '숭실대입구(살피재)', 'trainLineNm': '부평구청행 - 상도방면', 'gpsX':\n",
    "            '126.95364613852064', 'arvlCd': '99', 'subwayId': '1007', 'trainLine': '1', 'acdntCn': '\n",
    "            ', 'bStatnNm': '부평구청행', 'delayTime': '0', 'arvlMsg2': '5분 후 (총신대입구(이수))',\n",
    "            'bArvlDt': '300', 'bTrainNo': '7125', 'bStatnSn': '28', 'trainCd': '1', 'gpsY':\n",
    "            '37.49636243455655', 'arvlMsg3': '총신대입구(이수)'}], 'error': {'errorCode': '0000',\n",
    "            'errorMessage': '성공'}, 'resultList2': [{'x': '195901.37022', 'statnId': '1007000738',\n",
    "            'zipNo': '156035', 'subwayId': '1007', 'subwayList': '1007:1007000738,', 'telNo':\n",
    "            '02-6311-7381', 'statnTid': '1007000737', 'adres': '서울특별시 동작구 상도5동178-1',\n",
    "            'fxNum': ' ', 'statnFnm': '상도', 'statnTnm': '남성', 'statnFid': '1007000739',\n",
    "            'statnNmEng': 'Soongsil Univ.', 'operPblinstt': '도시철도', 'y': '444107.01879',\n",
    "            'subwayNm': '7호선', 'trnsitCo': '1', 'statnNm': '숭실대입구'}]}\n",
    "        \"\"\"\n",
    "\n",
    "        ret = jsn.get('resultList2')[0].get('statnNm') + '\\n'\n",
    "\n",
    "        if jsn.get('resultList') is None:\n",
    "            return '곧 수정하겠습니다 아직 이부분은 왜안되는지 이유를 모르겠네요'\n",
    "        for j in range(len(jsn.get('resultList'))):\n",
    "            ret += '-----------------------\\n|'\n",
    "            ret += jsn.get('resultList')[j].get('trainLineNm') + '\\n| '\n",
    "            ret += jsn.get('resultList')[j].get('arvlMsg2') + '\\n|'\n",
    "            # for k in jsn.get('resultList')[j].keys():\n",
    "            #\tprint(k, jsn.get('resultList')[j].get(k))\n",
    "            # print('-------------------')\n",
    "\n",
    "        return ret + '-----------------------'\n",
    "\n",
    "\n",
    "class BusParser(metaclass=Singleton):\n",
    "    \"\"\"\n",
    "    ex: http://bus.go.kr/xmlRequest/getStationByUid.jsp?strBusNumber=13157'\n",
    "    \"\"\"\n",
    "\n",
    "    url = 'http://bus.go.kr/xmlRequest/getStationByUid.jsp'\n",
    "\n",
    "    def get_station_stat(self, station_number):\n",
    "        res = requests.get(bus_api.url, dict(strBusNumber=station_number))\n",
    "        soup = BeautifulSoup(res.text, 'html.parser')\n",
    "        ret = ''\n",
    "\n",
    "        for bus_name, left_time_1, left_time_2 in zip(soup.select('rtnm'),\\\n",
    "                soup.select('arrmsg1'), soup.select('arrmsg2')):\n",
    "            ret += \"-------------------\\n| Bus:{0:<8}\\n|{1:<10}\\n|{2:<13}\\n\".format(\\\n",
    "                    bus_name.string, left_time_1.string, left_time_2.string)\n",
    "        return ret + '-------------------'\n",
    "\n",
    "\n",
    "class LibParser(metaclass=Singleton):\n",
    "    url = 'http://203.253.28.47/seat/domian5.asp'\n",
    "    seat = {\n",
    "        '1 열람실': {\n",
    "            '전체 좌석': 428,\n",
    "            '잔여 좌석': None,\n",
    "            '사용중인 좌석': None,\n",
    "            '이용률': None\n",
    "        },\n",
    "        '2 열람실': {\n",
    "            '전체 좌석': 100,\n",
    "            '잔여 좌석': None,\n",
    "            '사용중인 좌석': None,\n",
    "            '이용률': None\n",
    "        },\n",
    "        '3 열람실': {\n",
    "            '전체 좌석': 117,\n",
    "            '잔여 좌석': None,\n",
    "            '사용중인 좌석': None,\n",
    "            '이용률': None\n",
    "        },\n",
    "        '4 열람실': {\n",
    "            '전체 좌석': 172,\n",
    "            '잔여 좌석': None,\n",
    "            '사용중인 좌석': None,\n",
    "            '이용률': None\n",
    "        }\n",
    "    }\n",
    "\n",
    "    def get_lib_stat(self):\n",
    "        r = requests.get(lib_api.url)\n",
    "        soup = BeautifulSoup(r.text, 'html.parser')\n",
    "        cnt = 1\n",
    "        for i in soup.find_all('tr')[3:]:\n",
    "            rest = i.find_all(attrs={'color': 'blue'})[1].getText()\n",
    "            usage_percent = i.find_all(attrs={'color': 'blue'})[2].getText()\n",
    "            room = lib_api.seat ['{} 열람실'.format(cnt)]\n",
    "            room['잔여 좌석'] = int(rest)\n",
    "            room['사용중인 좌석'] = int(room['전체 좌석'])-room['잔여 좌석']\n",
    "            room['이용률'] = usage_percent\n",
    "            cnt += 1\n",
    "\n",
    "        return lib_api.seat\n",
    "\n",
    "subway_api = SubwayParser()\n",
    "bus_api = BusParser()\n",
    "lib_api = LibParser()\n",
    "\n",
    "\n",
    "class LibrarySeat():\n",
    "    def __init__(self):\n",
    "        self.seats = None\n",
    "\n",
    "    def get_buttons(self):\n",
    "        ret_buttons = []\n",
    "        unordered_lib_stats = lib_api.get_lib_stat()\n",
    "        lib_stats = OrderedDict(sorted(unordered_lib_stats.items()))\n",
    "        for button in lib_stats:\n",
    "            button_text = button + '이용률 :' + lib_stats[button]['이용률']\n",
    "            ret_buttons.append(button_text)\n",
    "\n",
    "    def get_string(self):\n",
    "        pass\n",
    "\n",
    "\n"
   ]
  },
  {
   "cell_type": "code",
   "execution_count": 433,
   "metadata": {
    "collapsed": true
   },
   "outputs": [],
   "source": [
    "l = LibrarySeat()\n"
   ]
  },
  {
   "cell_type": "code",
   "execution_count": 434,
   "metadata": {
    "collapsed": true
   },
   "outputs": [],
   "source": [
    "l.get_buttons()"
   ]
  },
  {
   "cell_type": "code",
   "execution_count": 435,
   "metadata": {},
   "outputs": [
    {
     "name": "stdout",
     "output_type": "stream",
     "text": [
      "None\n"
     ]
    }
   ],
   "source": [
    "print(l.get_buttons())"
   ]
  },
  {
   "cell_type": "code",
   "execution_count": 436,
   "metadata": {},
   "outputs": [
    {
     "data": {
      "text/plain": [
       "{'1 열람실': {'사용중인 좌석': 80, '이용률': '\\xa018.69 %', '잔여 좌석': 348, '전체 좌석': 428},\n",
       " '2 열람실': {'사용중인 좌석': 60, '이용률': '\\xa060 %', '잔여 좌석': 40, '전체 좌석': 100},\n",
       " '3 열람실': {'사용중인 좌석': 54, '이용률': '\\xa046.15 %', '잔여 좌석': 63, '전체 좌석': 117},\n",
       " '4 열람실': {'사용중인 좌석': 55, '이용률': '\\xa031.98 %', '잔여 좌석': 117, '전체 좌석': 172}}"
      ]
     },
     "execution_count": 436,
     "metadata": {},
     "output_type": "execute_result"
    }
   ],
   "source": [
    "lib_api.get_lib_stat()"
   ]
  },
  {
   "cell_type": "code",
   "execution_count": 437,
   "metadata": {
    "collapsed": true
   },
   "outputs": [],
   "source": [
    "ret_buttons = []"
   ]
  },
  {
   "cell_type": "code",
   "execution_count": 440,
   "metadata": {},
   "outputs": [],
   "source": [
    "unordered_lib_stats = lib_api.get_lib_stat()\n",
    "lib_stats = OrderedDict(sorted(unordered_lib_stats.items()))\n",
    "for button in lib_stats:\n",
    "    button_text = button + '이용률 :' + lib_stats[button]['이용률']\n",
    "    ret_buttons.append(button_text)\n"
   ]
  },
  {
   "cell_type": "code",
   "execution_count": 448,
   "metadata": {},
   "outputs": [
    {
     "ename": "TypeError",
     "evalue": "'in <string>' requires string as left operand, not list",
     "output_type": "error",
     "traceback": [
      "\u001b[0;31m---------------------------------------------------------------------------\u001b[0m",
      "\u001b[0;31mTypeError\u001b[0m                                 Traceback (most recent call last)",
      "\u001b[0;32m<ipython-input-448-1f6ba0541aa6>\u001b[0m in \u001b[0;36m<module>\u001b[0;34m()\u001b[0m\n\u001b[0;32m----> 1\u001b[0;31m \u001b[0;34m[\u001b[0m\u001b[0;34m'1 열람실'\u001b[0m\u001b[0;34m,\u001b[0m \u001b[0;34m'2 열람실'\u001b[0m \u001b[0;32mor\u001b[0m \u001b[0;34m'3 열람실'\u001b[0m\u001b[0;34m]\u001b[0m \u001b[0;32min\u001b[0m \u001b[0mret_buttons\u001b[0m\u001b[0;34m[\u001b[0m\u001b[0;36m0\u001b[0m\u001b[0;34m]\u001b[0m\u001b[0;34m\u001b[0m\u001b[0m\n\u001b[0m",
      "\u001b[0;31mTypeError\u001b[0m: 'in <string>' requires string as left operand, not list"
     ]
    }
   ],
   "source": [
    "'1 열람실', '2 열람실' or '3 열람실' in ret_buttons[0]"
   ]
  },
  {
   "cell_type": "code",
   "execution_count": 450,
   "metadata": {},
   "outputs": [],
   "source": [
    "s = ret_buttons[0]"
   ]
  },
  {
   "cell_type": "code",
   "execution_count": 454,
   "metadata": {},
   "outputs": [
    {
     "data": {
      "text/plain": [
       "'1'"
      ]
     },
     "execution_count": 454,
     "metadata": {},
     "output_type": "execute_result"
    }
   ],
   "source": [
    "s[0]"
   ]
  },
  {
   "cell_type": "code",
   "execution_count": null,
   "metadata": {
    "collapsed": true
   },
   "outputs": [],
   "source": []
  }
 ],
 "metadata": {
  "kernelspec": {
   "display_name": "Python 3",
   "language": "python",
   "name": "python3"
  },
  "language_info": {
   "codemirror_mode": {
    "name": "ipython",
    "version": 3
   },
   "file_extension": ".py",
   "mimetype": "text/x-python",
   "name": "python",
   "nbconvert_exporter": "python",
   "pygments_lexer": "ipython3",
   "version": "3.5.2"
  }
 },
 "nbformat": 4,
 "nbformat_minor": 2
}
